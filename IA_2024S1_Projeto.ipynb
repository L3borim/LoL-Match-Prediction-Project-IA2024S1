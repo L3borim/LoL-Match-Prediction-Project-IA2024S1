{
  "cells": [
    {
      "cell_type": "markdown",
      "metadata": {
        "id": "view-in-github",
        "colab_type": "text"
      },
      "source": [
        "<a href=\"https://colab.research.google.com/github/L3borim/LoL-Match-Prediction-Project-IA2024S1/blob/main/IA_2024S1_Projeto.ipynb\" target=\"_parent\"><img src=\"https://colab.research.google.com/assets/colab-badge.svg\" alt=\"Open In Colab\"/></a>"
      ]
    },
    {
      "cell_type": "markdown",
      "metadata": {
        "id": "40b90843"
      },
      "source": [
        "<img src=\"http://meusite.mackenzie.br/rogerio/mackenzie_logo/UPM.2_horizontal_vermelho.jpg\"  width=300, align=\"right\">\n",
        "<br>\n",
        "<br>\n",
        "<br>\n",
        "<br>\n",
        "<br>\n",
        "\n",
        "# ***Predição de Melhor Composição de Campeões do League of Legends***\n",
        "---"
      ]
    },
    {
      "cell_type": "markdown",
      "metadata": {
        "id": "Ikv-pBzr9bNu"
      },
      "source": [
        "*Siga esse template para entrega do seu artigo/projeto. O código deste notebook precisa ser 100% executável* não podendo, assim, fazer referência a arquivos locais ou privados.\n",
        "\n",
        "Neste projeto você deve **explorar algumas tecnologias que são o estado da arte da IA e do Aprendizado de Máquina (modelos largos de linguagem - APIs ChatGPT, Gemini, Meta Llama -, modelos neurais profundos - TensorFlow, PyTorch -, aprendizado com imagem, som ou vídeo - OpenCV, OpenPose, Yolo -, modelos pré-treinados - transfer learning -, ou aplicação de modelos em casos reais)**. Em geral são temas que não tratamos em sala, seja pelo tempo, seja pela necessidade de focarmos nos fundamentos. O grupo pode optar por dar continuidade à proposta que apresentou no 1o bimestre, levando em consideração os comentários do professor, ou escolher um outro tema dentro dos mesma premissa explorar novos modelos.\n",
        "\n",
        "Vocês devem produzir um *artigo*, a exemplo de artigos do *Medium* (\\*) ou outros canais semelhantes, para que seu grupo, colegas e leitores do trabalho tenham aqui um ponto de partida para uso da tecnologia/conceito escolhido. Desse modo é importante a linguagem, o trabalho deve, antes de tudo **comunicar**.\n",
        "\n",
        "Você pode, e é mesmo esperado, que você empregue referências e implementações de outros trabalhos. Mas é importante que você **1. Indique adequadamente as referências**, e **2. Implemente algum diferencial na sua solução**, o que pode ser um conjunto de dados diferente, comparação com outro modelo etc.\n",
        "\n",
        "<br>\n",
        "\n",
        "(\\*) *Atendendo critérios mínimos, convidarei os dois melhores trabalhos para fazermos uma publicação no Medium.*\n"
      ]
    },
    {
      "cell_type": "code",
      "execution_count": null,
      "metadata": {
        "id": "rYx9D4GZA5o9",
        "cellView": "form"
      },
      "outputs": [],
      "source": [
        "#@title **Identificação do Grupo**\n",
        "\n",
        "#@markdown Integrantes do Grupo, nome completo em orgem alfabética (*informe \\<TIA\\>,\\<nome\\>*)\n",
        "Aluno1 = '10375711, Gabriel Marques G. Almeida' #@param {type:\"string\"}\n",
        "Aluno2 = '10390123, Leonardo Borim Silva' #@param {type:\"string\"}\n",
        "Aluno3 = '10390316, Mateus Yoon' #@param {type:\"string\"}\n",
        "Aluno4 = '10390484, Samy Idesis' #@param {type:\"string\"}\n",
        "Aluno5 = 'None' #@param {type:\"string\"}\n",
        "\n"
      ]
    },
    {
      "cell_type": "markdown",
      "metadata": {
        "id": "JlCIc2YooBW7"
      },
      "source": [
        "# **Resumo (*Abstract*)**\n",
        "\n",
        "Este projeto acadêmico tem como objetivo utilizar dados da API da Riot Games para treinar um modelo preditivo capaz de prever o vencedor de uma partida de League of Legends, seja o lado azul (blue) ou o lado vermelho (red). Para isso, utilizamos a API da Riot para obter dados de 888 partidas, todas do ranking mais alto do jogo, o \"Challenger\". Coletamos informações sobre os campeões escolhidos pelos jogadores em cada partida, tanto do lado azul quanto do lado vermelho, e o resultado final da partida. Com esses dados obtidos, treinamos um modelo que pode prever o vencedor de uma nova partida com base nas escolhas dos campeões. (ARRUMAR SAMY E XI)"
      ]
    },
    {
      "cell_type": "markdown",
      "metadata": {
        "id": "A4-f8AtfKAn2"
      },
      "source": [
        "# **Referencial Teórico**\n",
        "\n",
        "XI e SAMY\n",
        "API DA RIOT -> https://developer.riotgames.com/apis\n",
        "\n",
        "Apresente os principais conceitos da tecnologia ou princípio explorado no seu trabalho (o que é? como funciona? Suas aplicações). Não deixe de indicar referências e incluir ilustrações/esquemas quando necessário. Empregue 2-3 páginas.\n",
        "\n",
        "\n",
        "\n"
      ]
    },
    {
      "cell_type": "markdown",
      "metadata": {
        "id": "69Ed6lD7vmi7"
      },
      "source": [
        "\n",
        "\n",
        "> ## **Conceitos Chave**\n",
        "\n",
        "> ### 1. *League of Legends*\n",
        "O projeto teve como motivação o jogo MOBA \"League of Legends\" que através d\n",
        "\n",
        "> ### 2. *Coleta de Dados API Riot Games*\n",
        "Para o início do projeto foi utilizado a API da Riot Games (https://developer.riotgames.com/apis) para a coleta dos dados das partidas, sendo possível observar o passo a passo feito na aba de \"Implementação\". Sendo essencial para o trabalho tendo em vista que será a única base de dados que teremos para o projeto.\n",
        "\n",
        "> ### 3. *Aprendizado Supervisionado*\n",
        "O aprendizado supervisionado utiliza conjuntos de treinamentos para ensinar os modelos a produzir os resultados desejados, fazendo com que ele aprenda com entradas (Composição dos times) e saídas (Time vencedor) durante o tempo.\n",
        "\n",
        "> ### 4. *Modelos de classificação*\n",
        "Para a conclusão do projeto foi utilizado diversos modelos de classificação, tendo como objetivo proporcionar uma análise dos dados mais completas possível, permitindo a identificação do melhor modelo para a obtenção de previsões mais precisas, tendo em vista que cada modelo de classificação possui seu próprio mecanismo de funcionamento, levando a desempenhos variados em diferentes tipos de dados.\n",
        "\n",
        "> ### 4.1 *Árvore de decisão*\n",
        "O modelo de árvore de decisão tem como princípio empregar a probabilidade dos valores dos atributos no lugar dos próprios valores\n",
        "\n",
        "> ### 4.2 *Floresta aleatória*\n",
        "Diferentemente da árvore de decisão comum, o algorítmo floresta aleatória, como o próprio nome já diz, adiciona aleatoriedade na seleção dos atributos, e é denominado como floresta justamente por combinar diversas árvores de decisão, onde cada árvore terá influência no resultado final, como forma de melhorar a precisão e podendo ser responsável por resolver problemas como o de Overfiting - quando uma árvore cresce muito e seus dados não são bem trabalhados, ela tende a apresentar um ajuste excessivo exclusivo aos dados de treinamento, manifestando dificuldade para generalização de novas previsões.\n",
        "\n",
        "> ### 4.3 *AdaBoost Classifier*\n",
        "\n",
        "\n",
        "> ### 4.4 *K-Vizinhos mais próximos*\n",
        "\n",
        "\n",
        "> ### 4.5 *Extra Trees classifier*\n",
        "\n",
        "\n",
        "> ### 4.6 *GaussianNB classifier*\n",
        "\n",
        "\n",
        "> ### 4.7 *SVC*"
      ]
    },
    {
      "cell_type": "markdown",
      "metadata": {
        "id": "4wfTEdMMxqFK"
      },
      "source": [
        "# **Exemplo de Aplicação**\n",
        "\n",
        "XI E SAMY (Mano da pra fazer essa predição em sites de apostas de lol KKKKK)\n",
        "Descreva aqui um pequeno problema que você resolverá aplicando a tecnologia/conceito envolvido. O código/solução não precisa ser original, mas não deixe de dar as referências dessa solução. Lembre-se que o notebook precisa ser 100% executável e, portanto, você não deve empregar arquivos locais da sua máquina.\n",
        "\n",
        "Empregue aqui um ou dois parágrafos.\n",
        "\n"
      ]
    },
    {
      "cell_type": "markdown",
      "metadata": {
        "id": "FyFHbT8vygVp"
      },
      "source": [
        "# **Implementação**\n",
        "\n",
        "Coloque aqui o código da sua solução. Você deve explicar em linhas gerais o código. Para isso você pode quebrar o código em algumas partes e incluir células de texto explicativos. Não empregue para isso comentários no corpo do código, mas crie células de texto do notebook.\n",
        "\n",
        "Tente empregar exemplos que não sejam muito complexos e que busquem dar a você ou ao leitor um ponto de partida para o uso da tecnologia/conceito explorado.\n",
        "\n",
        "Ao final, se julgar útil, você pode ter uma célula com o código completo do que foi aqui dividido para explicar as diferentes partes."
      ]
    },
    {
      "cell_type": "code",
      "execution_count": null,
      "metadata": {
        "id": "fI3k2DDDC9hH"
      },
      "outputs": [],
      "source": [
        "import numpy as np\n",
        "import pandas as pd\n",
        "import matplotlib.pyplot as plt\n",
        "%matplotlib inline\n",
        "from matplotlib.lines import Line2D\n",
        "import seaborn as sns\n",
        "\n",
        "from sklearn.model_selection import train_test_split\n",
        "from sklearn.metrics import accuracy_score, classification_report\n",
        "from sklearn.preprocessing import LabelEncoder, OneHotEncoder\n",
        "from sklearn.pipeline import Pipeline\n",
        "from sklearn.metrics import accuracy_score, recall_score, precision_score, f1_score\n",
        "from sklearn.tree import DecisionTreeClassifier\n",
        "from sklearn.ensemble import RandomForestClassifier, AdaBoostClassifier, ExtraTreesClassifier\n",
        "from sklearn.neighbors import KNeighborsClassifier\n",
        "from sklearn.naive_bayes import GaussianNB\n",
        "from sklearn.svm import SVC"
      ]
    },
    {
      "cell_type": "code",
      "source": [],
      "metadata": {
        "id": "h7dYrps_Z9v5"
      },
      "execution_count": null,
      "outputs": []
    },
    {
      "cell_type": "markdown",
      "source": [
        "#Este codigo apresenta como foi feita a coleta de dados usando a API da Riot Games. Colocamos como texto para mostrar como foi a coleta e usamos depois um csv para o treinamento pois demora para obter os dados (a API tem limite de request)\n",
        "```\n",
        "import requests\n",
        "import time\n",
        "```\n",
        "#Key dada para uso da API, valida apenas 24h (é necessario criar uma conta RIOT)\n",
        "```\n",
        "api_key = \"RGAPI-9f136d42-d3a1-45c4-8366-4575483a95bf\"\n",
        "```\n",
        "#Essa funçao usa a API para pegar o ID da partidas usando o PUUID do jogador.\n",
        "```\n",
        "def get_all_match_ids(puuid, region='americas', total_count=200):\n",
        "    match_ids = []\n",
        "    for start in range(0, total_count, 100):\n",
        "        matches_url = f\"https://{region}.api.riotgames.com/lol/match/v5/matches/by-puuid/{puuid}/ids?start={start}&count=100&api_key={api_key}\"\n",
        "        matches_response = requests.get(matches_url)\n",
        "        match_ids.extend(matches_response.json())\n",
        "        # Dormir um pouco para respeitar os limites de taxa\n",
        "        time.sleep(1)\n",
        "    return match_ids\n",
        "```\n",
        "#Essa função usa a API que usa o ID da partida para pegar os detalhes das partidas (os 10 campeoes utilizados)\n",
        "```\n",
        "def get_match_details(match_id, region='americas'):\n",
        "    match_url = f\"https://{region}.api.riotgames.com/lol/match/v5/matches/{match_id}?api_key={api_key}\"\n",
        "    while True:\n",
        "        match_response = requests.get(match_url)\n",
        "        if match_response.status_code == 200:\n",
        "            return match_response.json()\n",
        "        elif match_response.status_code == 429:  \n",
        "            retry_after = int(match_response.headers.get('Retry-After', 1))\n",
        "            time.sleep(retry_after)\n",
        "        else:\n",
        "            match_response.raise_for_status()\n",
        "```\n",
        "\n",
        "#Essa função obtem o PUUID de um jogador usando o RIOT_ID e tag (dados publicos)\n",
        "```\n",
        "def get_puuid(riot_id, tag_line, region='americas'):\n",
        "    puuid_url = f\"https://{region}.api.riotgames.com/riot/account/v1/accounts/by-riot-id/{riot_id}%20/{tag_line}?api_key={api_key}\"\n",
        "    puuid_response = requests.get(puuid_url)\n",
        "\n",
        "    # Verificar se a resposta é bem-sucedida\n",
        "    if puuid_response.status_code != 200:\n",
        "        raise Exception(f\"Erro ao buscar PUUID: {puuid_response.status_code}\")\n",
        "\n",
        "    puuid_data = puuid_response.json()\n",
        "\n",
        "    # Verificar se a chave 'puuid' está na resposta\n",
        "    if 'puuid' not in puuid_data:\n",
        "        raise KeyError(\"'puuid' não encontrado na resposta da API\")\n",
        "\n",
        "    return puuid_data['puuid']\n",
        "```\n",
        "\n",
        "# Lista de jogadores (nomes riot_id e tags)\n",
        "#top 5 jogadores BR\n",
        "```\n",
        "players = [\n",
        "    ('randal', 'zero1'),\n",
        "    ('fuuuuuuuu', '99999'),\n",
        "    ('Dernière danse', 'IMPz'),\n",
        "    ('frosty', 'KR3'),\n",
        "    ('Kojima', '2840'),\n",
        "    # Adicione mais jogadores conforme necessário\n",
        "]\n",
        "\n",
        "region = 'americas'  # Região dos jogadores\n",
        "\n",
        "```\n",
        "\n",
        "# Coletar dados de partidas para todos os jogadores\n",
        "```\n",
        "all_matches_data = []\n",
        "for riot_id, tag_line in players:\n",
        "    puuid = get_puuid(riot_id, tag_line, region)\n",
        "    match_ids = get_all_match_ids(puuid)\n",
        "    for match_id in match_ids:\n",
        "        match_details = get_match_details(match_id)\n",
        "        all_matches_data.append(match_details)\n",
        "```\n",
        "\n",
        "# Processar dados das partidas para criar o DataFrame, retira apenas o \"championName\" da partida e quem ganhou.\n",
        "```\n",
        "data = []\n",
        "for match in all_matches_data:\n",
        "    blue_team = [p['championName'] for p in match['info']['participants'] if p['teamId'] == 100]\n",
        "    red_team = [p['championName'] for p in match['info']['participants'] if p['teamId'] == 200]\n",
        "\n",
        "    # Verificar se ambos os times têm exatamente 5 campeões\n",
        "    if len(blue_team) == 5 and len(red_team) == 5:\n",
        "        result = 'Blue' if match['info']['teams'][0]['win'] else 'Red'\n",
        "        data.append(blue_team + red_team + [result])\n",
        "\n",
        "columns = ['Champion1_Blue', 'Champion2_Blue', 'Champion3_Blue', 'Champion4_Blue', 'Champion5_Blue',\n",
        "           'Champion1_Red', 'Champion2_Red', 'Champion3_Red', 'Champion4_Red', 'Champion5_Red', 'Result']\n",
        "df = pd.DataFrame(data, columns=columns)\n",
        "\n",
        "```\n",
        "#Cria o CSV\n",
        "```\n",
        "csv_file = 'partidas_data.csv'\n",
        "df.to_csv(csv_file, index=False)\n",
        "\n",
        "# Baixar o arquivo CSV\n",
        "from google.colab import files\n",
        "files.download(csv_file)\n",
        "```"
      ],
      "metadata": {
        "id": "RHqWoPVOawHa"
      }
    },
    {
      "cell_type": "code",
      "execution_count": null,
      "metadata": {
        "colab": {
          "base_uri": "https://localhost:8080/",
          "height": 206
        },
        "id": "NFDyoFSjC9hI",
        "outputId": "49612938-d6b2-47af-8a6e-f797d493958a"
      },
      "outputs": [
        {
          "output_type": "execute_result",
          "data": {
            "text/plain": [
              "  Champion1_Blue Champion2_Blue Champion3_Blue Champion4_Blue Champion5_Blue  \\\n",
              "0        Camille          Poppy         Qiyana       Tristana       Pantheon   \n",
              "1          Akali           Kayn           Ryze          Corki       Nautilus   \n",
              "2        Camille        Sejuani           Hwei        Caitlyn           Rell   \n",
              "3        Camille         LeeSin           Hwei           Jhin           Sona   \n",
              "4        Camille       JarvanIV         Xerath           Jhin       Nautilus   \n",
              "\n",
              "  Champion1_Red Champion2_Red Champion3_Red Champion4_Red Champion5_Red Result  \n",
              "0         Urgot         Brand        Twitch        Lucian         Milio    Red  \n",
              "1         Garen        Lillia       Leblanc          Jinx         Milio    Red  \n",
              "2           Jax        LeeSin           Lux          Jhin         Janna    Red  \n",
              "3      Vladimir       Skarner         Yasuo        Samira         Milio   Blue  \n",
              "4         Jayce        Lillia           Lux     Seraphine         Senna    Red  "
            ],
            "text/html": [
              "\n",
              "  <div id=\"df-25afdcce-b7d0-4563-87f6-cf6268dad432\" class=\"colab-df-container\">\n",
              "    <div>\n",
              "<style scoped>\n",
              "    .dataframe tbody tr th:only-of-type {\n",
              "        vertical-align: middle;\n",
              "    }\n",
              "\n",
              "    .dataframe tbody tr th {\n",
              "        vertical-align: top;\n",
              "    }\n",
              "\n",
              "    .dataframe thead th {\n",
              "        text-align: right;\n",
              "    }\n",
              "</style>\n",
              "<table border=\"1\" class=\"dataframe\">\n",
              "  <thead>\n",
              "    <tr style=\"text-align: right;\">\n",
              "      <th></th>\n",
              "      <th>Champion1_Blue</th>\n",
              "      <th>Champion2_Blue</th>\n",
              "      <th>Champion3_Blue</th>\n",
              "      <th>Champion4_Blue</th>\n",
              "      <th>Champion5_Blue</th>\n",
              "      <th>Champion1_Red</th>\n",
              "      <th>Champion2_Red</th>\n",
              "      <th>Champion3_Red</th>\n",
              "      <th>Champion4_Red</th>\n",
              "      <th>Champion5_Red</th>\n",
              "      <th>Result</th>\n",
              "    </tr>\n",
              "  </thead>\n",
              "  <tbody>\n",
              "    <tr>\n",
              "      <th>0</th>\n",
              "      <td>Camille</td>\n",
              "      <td>Poppy</td>\n",
              "      <td>Qiyana</td>\n",
              "      <td>Tristana</td>\n",
              "      <td>Pantheon</td>\n",
              "      <td>Urgot</td>\n",
              "      <td>Brand</td>\n",
              "      <td>Twitch</td>\n",
              "      <td>Lucian</td>\n",
              "      <td>Milio</td>\n",
              "      <td>Red</td>\n",
              "    </tr>\n",
              "    <tr>\n",
              "      <th>1</th>\n",
              "      <td>Akali</td>\n",
              "      <td>Kayn</td>\n",
              "      <td>Ryze</td>\n",
              "      <td>Corki</td>\n",
              "      <td>Nautilus</td>\n",
              "      <td>Garen</td>\n",
              "      <td>Lillia</td>\n",
              "      <td>Leblanc</td>\n",
              "      <td>Jinx</td>\n",
              "      <td>Milio</td>\n",
              "      <td>Red</td>\n",
              "    </tr>\n",
              "    <tr>\n",
              "      <th>2</th>\n",
              "      <td>Camille</td>\n",
              "      <td>Sejuani</td>\n",
              "      <td>Hwei</td>\n",
              "      <td>Caitlyn</td>\n",
              "      <td>Rell</td>\n",
              "      <td>Jax</td>\n",
              "      <td>LeeSin</td>\n",
              "      <td>Lux</td>\n",
              "      <td>Jhin</td>\n",
              "      <td>Janna</td>\n",
              "      <td>Red</td>\n",
              "    </tr>\n",
              "    <tr>\n",
              "      <th>3</th>\n",
              "      <td>Camille</td>\n",
              "      <td>LeeSin</td>\n",
              "      <td>Hwei</td>\n",
              "      <td>Jhin</td>\n",
              "      <td>Sona</td>\n",
              "      <td>Vladimir</td>\n",
              "      <td>Skarner</td>\n",
              "      <td>Yasuo</td>\n",
              "      <td>Samira</td>\n",
              "      <td>Milio</td>\n",
              "      <td>Blue</td>\n",
              "    </tr>\n",
              "    <tr>\n",
              "      <th>4</th>\n",
              "      <td>Camille</td>\n",
              "      <td>JarvanIV</td>\n",
              "      <td>Xerath</td>\n",
              "      <td>Jhin</td>\n",
              "      <td>Nautilus</td>\n",
              "      <td>Jayce</td>\n",
              "      <td>Lillia</td>\n",
              "      <td>Lux</td>\n",
              "      <td>Seraphine</td>\n",
              "      <td>Senna</td>\n",
              "      <td>Red</td>\n",
              "    </tr>\n",
              "  </tbody>\n",
              "</table>\n",
              "</div>\n",
              "    <div class=\"colab-df-buttons\">\n",
              "\n",
              "  <div class=\"colab-df-container\">\n",
              "    <button class=\"colab-df-convert\" onclick=\"convertToInteractive('df-25afdcce-b7d0-4563-87f6-cf6268dad432')\"\n",
              "            title=\"Convert this dataframe to an interactive table.\"\n",
              "            style=\"display:none;\">\n",
              "\n",
              "  <svg xmlns=\"http://www.w3.org/2000/svg\" height=\"24px\" viewBox=\"0 -960 960 960\">\n",
              "    <path d=\"M120-120v-720h720v720H120Zm60-500h600v-160H180v160Zm220 220h160v-160H400v160Zm0 220h160v-160H400v160ZM180-400h160v-160H180v160Zm440 0h160v-160H620v160ZM180-180h160v-160H180v160Zm440 0h160v-160H620v160Z\"/>\n",
              "  </svg>\n",
              "    </button>\n",
              "\n",
              "  <style>\n",
              "    .colab-df-container {\n",
              "      display:flex;\n",
              "      gap: 12px;\n",
              "    }\n",
              "\n",
              "    .colab-df-convert {\n",
              "      background-color: #E8F0FE;\n",
              "      border: none;\n",
              "      border-radius: 50%;\n",
              "      cursor: pointer;\n",
              "      display: none;\n",
              "      fill: #1967D2;\n",
              "      height: 32px;\n",
              "      padding: 0 0 0 0;\n",
              "      width: 32px;\n",
              "    }\n",
              "\n",
              "    .colab-df-convert:hover {\n",
              "      background-color: #E2EBFA;\n",
              "      box-shadow: 0px 1px 2px rgba(60, 64, 67, 0.3), 0px 1px 3px 1px rgba(60, 64, 67, 0.15);\n",
              "      fill: #174EA6;\n",
              "    }\n",
              "\n",
              "    .colab-df-buttons div {\n",
              "      margin-bottom: 4px;\n",
              "    }\n",
              "\n",
              "    [theme=dark] .colab-df-convert {\n",
              "      background-color: #3B4455;\n",
              "      fill: #D2E3FC;\n",
              "    }\n",
              "\n",
              "    [theme=dark] .colab-df-convert:hover {\n",
              "      background-color: #434B5C;\n",
              "      box-shadow: 0px 1px 3px 1px rgba(0, 0, 0, 0.15);\n",
              "      filter: drop-shadow(0px 1px 2px rgba(0, 0, 0, 0.3));\n",
              "      fill: #FFFFFF;\n",
              "    }\n",
              "  </style>\n",
              "\n",
              "    <script>\n",
              "      const buttonEl =\n",
              "        document.querySelector('#df-25afdcce-b7d0-4563-87f6-cf6268dad432 button.colab-df-convert');\n",
              "      buttonEl.style.display =\n",
              "        google.colab.kernel.accessAllowed ? 'block' : 'none';\n",
              "\n",
              "      async function convertToInteractive(key) {\n",
              "        const element = document.querySelector('#df-25afdcce-b7d0-4563-87f6-cf6268dad432');\n",
              "        const dataTable =\n",
              "          await google.colab.kernel.invokeFunction('convertToInteractive',\n",
              "                                                    [key], {});\n",
              "        if (!dataTable) return;\n",
              "\n",
              "        const docLinkHtml = 'Like what you see? Visit the ' +\n",
              "          '<a target=\"_blank\" href=https://colab.research.google.com/notebooks/data_table.ipynb>data table notebook</a>'\n",
              "          + ' to learn more about interactive tables.';\n",
              "        element.innerHTML = '';\n",
              "        dataTable['output_type'] = 'display_data';\n",
              "        await google.colab.output.renderOutput(dataTable, element);\n",
              "        const docLink = document.createElement('div');\n",
              "        docLink.innerHTML = docLinkHtml;\n",
              "        element.appendChild(docLink);\n",
              "      }\n",
              "    </script>\n",
              "  </div>\n",
              "\n",
              "\n",
              "<div id=\"df-204970dd-46b7-437a-b4f7-05602f26a7a4\">\n",
              "  <button class=\"colab-df-quickchart\" onclick=\"quickchart('df-204970dd-46b7-437a-b4f7-05602f26a7a4')\"\n",
              "            title=\"Suggest charts\"\n",
              "            style=\"display:none;\">\n",
              "\n",
              "<svg xmlns=\"http://www.w3.org/2000/svg\" height=\"24px\"viewBox=\"0 0 24 24\"\n",
              "     width=\"24px\">\n",
              "    <g>\n",
              "        <path d=\"M19 3H5c-1.1 0-2 .9-2 2v14c0 1.1.9 2 2 2h14c1.1 0 2-.9 2-2V5c0-1.1-.9-2-2-2zM9 17H7v-7h2v7zm4 0h-2V7h2v10zm4 0h-2v-4h2v4z\"/>\n",
              "    </g>\n",
              "</svg>\n",
              "  </button>\n",
              "\n",
              "<style>\n",
              "  .colab-df-quickchart {\n",
              "      --bg-color: #E8F0FE;\n",
              "      --fill-color: #1967D2;\n",
              "      --hover-bg-color: #E2EBFA;\n",
              "      --hover-fill-color: #174EA6;\n",
              "      --disabled-fill-color: #AAA;\n",
              "      --disabled-bg-color: #DDD;\n",
              "  }\n",
              "\n",
              "  [theme=dark] .colab-df-quickchart {\n",
              "      --bg-color: #3B4455;\n",
              "      --fill-color: #D2E3FC;\n",
              "      --hover-bg-color: #434B5C;\n",
              "      --hover-fill-color: #FFFFFF;\n",
              "      --disabled-bg-color: #3B4455;\n",
              "      --disabled-fill-color: #666;\n",
              "  }\n",
              "\n",
              "  .colab-df-quickchart {\n",
              "    background-color: var(--bg-color);\n",
              "    border: none;\n",
              "    border-radius: 50%;\n",
              "    cursor: pointer;\n",
              "    display: none;\n",
              "    fill: var(--fill-color);\n",
              "    height: 32px;\n",
              "    padding: 0;\n",
              "    width: 32px;\n",
              "  }\n",
              "\n",
              "  .colab-df-quickchart:hover {\n",
              "    background-color: var(--hover-bg-color);\n",
              "    box-shadow: 0 1px 2px rgba(60, 64, 67, 0.3), 0 1px 3px 1px rgba(60, 64, 67, 0.15);\n",
              "    fill: var(--button-hover-fill-color);\n",
              "  }\n",
              "\n",
              "  .colab-df-quickchart-complete:disabled,\n",
              "  .colab-df-quickchart-complete:disabled:hover {\n",
              "    background-color: var(--disabled-bg-color);\n",
              "    fill: var(--disabled-fill-color);\n",
              "    box-shadow: none;\n",
              "  }\n",
              "\n",
              "  .colab-df-spinner {\n",
              "    border: 2px solid var(--fill-color);\n",
              "    border-color: transparent;\n",
              "    border-bottom-color: var(--fill-color);\n",
              "    animation:\n",
              "      spin 1s steps(1) infinite;\n",
              "  }\n",
              "\n",
              "  @keyframes spin {\n",
              "    0% {\n",
              "      border-color: transparent;\n",
              "      border-bottom-color: var(--fill-color);\n",
              "      border-left-color: var(--fill-color);\n",
              "    }\n",
              "    20% {\n",
              "      border-color: transparent;\n",
              "      border-left-color: var(--fill-color);\n",
              "      border-top-color: var(--fill-color);\n",
              "    }\n",
              "    30% {\n",
              "      border-color: transparent;\n",
              "      border-left-color: var(--fill-color);\n",
              "      border-top-color: var(--fill-color);\n",
              "      border-right-color: var(--fill-color);\n",
              "    }\n",
              "    40% {\n",
              "      border-color: transparent;\n",
              "      border-right-color: var(--fill-color);\n",
              "      border-top-color: var(--fill-color);\n",
              "    }\n",
              "    60% {\n",
              "      border-color: transparent;\n",
              "      border-right-color: var(--fill-color);\n",
              "    }\n",
              "    80% {\n",
              "      border-color: transparent;\n",
              "      border-right-color: var(--fill-color);\n",
              "      border-bottom-color: var(--fill-color);\n",
              "    }\n",
              "    90% {\n",
              "      border-color: transparent;\n",
              "      border-bottom-color: var(--fill-color);\n",
              "    }\n",
              "  }\n",
              "</style>\n",
              "\n",
              "  <script>\n",
              "    async function quickchart(key) {\n",
              "      const quickchartButtonEl =\n",
              "        document.querySelector('#' + key + ' button');\n",
              "      quickchartButtonEl.disabled = true;  // To prevent multiple clicks.\n",
              "      quickchartButtonEl.classList.add('colab-df-spinner');\n",
              "      try {\n",
              "        const charts = await google.colab.kernel.invokeFunction(\n",
              "            'suggestCharts', [key], {});\n",
              "      } catch (error) {\n",
              "        console.error('Error during call to suggestCharts:', error);\n",
              "      }\n",
              "      quickchartButtonEl.classList.remove('colab-df-spinner');\n",
              "      quickchartButtonEl.classList.add('colab-df-quickchart-complete');\n",
              "    }\n",
              "    (() => {\n",
              "      let quickchartButtonEl =\n",
              "        document.querySelector('#df-204970dd-46b7-437a-b4f7-05602f26a7a4 button');\n",
              "      quickchartButtonEl.style.display =\n",
              "        google.colab.kernel.accessAllowed ? 'block' : 'none';\n",
              "    })();\n",
              "  </script>\n",
              "</div>\n",
              "\n",
              "    </div>\n",
              "  </div>\n"
            ],
            "application/vnd.google.colaboratory.intrinsic+json": {
              "type": "dataframe",
              "variable_name": "df",
              "summary": "{\n  \"name\": \"df\",\n  \"rows\": 880,\n  \"fields\": [\n    {\n      \"column\": \"Champion1_Blue\",\n      \"properties\": {\n        \"dtype\": \"category\",\n        \"num_unique_values\": 103,\n        \"samples\": [\n          \"MonkeyKing\",\n          \"Taliyah\",\n          \"Chogath\"\n        ],\n        \"semantic_type\": \"\",\n        \"description\": \"\"\n      }\n    },\n    {\n      \"column\": \"Champion2_Blue\",\n      \"properties\": {\n        \"dtype\": \"category\",\n        \"num_unique_values\": 82,\n        \"samples\": [\n          \"Zyra\",\n          \"Poppy\",\n          \"Ivern\"\n        ],\n        \"semantic_type\": \"\",\n        \"description\": \"\"\n      }\n    },\n    {\n      \"column\": \"Champion3_Blue\",\n      \"properties\": {\n        \"dtype\": \"category\",\n        \"num_unique_values\": 113,\n        \"samples\": [\n          \"Kaisa\",\n          \"Yasuo\",\n          \"Katarina\"\n        ],\n        \"semantic_type\": \"\",\n        \"description\": \"\"\n      }\n    },\n    {\n      \"column\": \"Champion4_Blue\",\n      \"properties\": {\n        \"dtype\": \"category\",\n        \"num_unique_values\": 70,\n        \"samples\": [\n          \"Rumble\",\n          \"Tristana\",\n          \"Neeko\"\n        ],\n        \"semantic_type\": \"\",\n        \"description\": \"\"\n      }\n    },\n    {\n      \"column\": \"Champion5_Blue\",\n      \"properties\": {\n        \"dtype\": \"category\",\n        \"num_unique_values\": 78,\n        \"samples\": [\n          \"Morgana\",\n          \"Pantheon\",\n          \"Annie\"\n        ],\n        \"semantic_type\": \"\",\n        \"description\": \"\"\n      }\n    },\n    {\n      \"column\": \"Champion1_Red\",\n      \"properties\": {\n        \"dtype\": \"category\",\n        \"num_unique_values\": 109,\n        \"samples\": [\n          \"Chogath\",\n          \"TwistedFate\",\n          \"Jayce\"\n        ],\n        \"semantic_type\": \"\",\n        \"description\": \"\"\n      }\n    },\n    {\n      \"column\": \"Champion2_Red\",\n      \"properties\": {\n        \"dtype\": \"category\",\n        \"num_unique_values\": 78,\n        \"samples\": [\n          \"Kayn\",\n          \"Brand\",\n          \"Volibear\"\n        ],\n        \"semantic_type\": \"\",\n        \"description\": \"\"\n      }\n    },\n    {\n      \"column\": \"Champion3_Red\",\n      \"properties\": {\n        \"dtype\": \"category\",\n        \"num_unique_values\": 101,\n        \"samples\": [\n          \"Sion\",\n          \"Kindred\",\n          \"Nidalee\"\n        ],\n        \"semantic_type\": \"\",\n        \"description\": \"\"\n      }\n    },\n    {\n      \"column\": \"Champion4_Red\",\n      \"properties\": {\n        \"dtype\": \"category\",\n        \"num_unique_values\": 68,\n        \"samples\": [\n          \"Morgana\",\n          \"Katarina\",\n          \"Seraphine\"\n        ],\n        \"semantic_type\": \"\",\n        \"description\": \"\"\n      }\n    },\n    {\n      \"column\": \"Champion5_Red\",\n      \"properties\": {\n        \"dtype\": \"category\",\n        \"num_unique_values\": 72,\n        \"samples\": [\n          \"Braum\",\n          \"Velkoz\",\n          \"Leona\"\n        ],\n        \"semantic_type\": \"\",\n        \"description\": \"\"\n      }\n    },\n    {\n      \"column\": \"Result\",\n      \"properties\": {\n        \"dtype\": \"category\",\n        \"num_unique_values\": 2,\n        \"samples\": [\n          \"Blue\",\n          \"Red\"\n        ],\n        \"semantic_type\": \"\",\n        \"description\": \"\"\n      }\n    }\n  ]\n}"
            }
          },
          "metadata": {},
          "execution_count": 2
        }
      ],
      "source": [
        "df = pd.read_csv('https://raw.githubusercontent.com/L3borim/LoL-Match-Prediction-Project-IA2024S1/main/partidas_data.csv')\n",
        "\n",
        "df.head()"
      ]
    },
    {
      "cell_type": "code",
      "execution_count": null,
      "metadata": {
        "id": "F0A5l2_iC9hI"
      },
      "outputs": [],
      "source": [
        "# Supondo que seu DataFrame esteja na variável `df`\n",
        "# Converter a coluna 'Result' para valores binários (0 para Red, 1 para Blue)\n",
        "label_encoder = LabelEncoder()\n",
        "df['Result'] = label_encoder.fit_transform(df['Result'])\n",
        "\n",
        "# One-hot encoding para os campeões\n",
        "X = pd.get_dummies(df.drop('Result', axis=1))\n",
        "y = df['Result']"
      ]
    },
    {
      "cell_type": "code",
      "execution_count": null,
      "metadata": {
        "id": "P6o-fTZnC9hI"
      },
      "outputs": [],
      "source": [
        "classificadores = [\n",
        "    DecisionTreeClassifier(random_state=42),\n",
        "    RandomForestClassifier(random_state=42),\n",
        "    AdaBoostClassifier(),\n",
        "    KNeighborsClassifier(),\n",
        "    ExtraTreesClassifier(random_state=42),\n",
        "    GaussianNB(),\n",
        "    SVC()\n",
        "]"
      ]
    },
    {
      "cell_type": "code",
      "execution_count": null,
      "metadata": {
        "colab": {
          "base_uri": "https://localhost:8080/"
        },
        "id": "BZETHUI5C9hJ",
        "outputId": "e96e5231-e6ea-42e0-f433-96de43fcc754"
      },
      "outputs": [
        {
          "output_type": "stream",
          "name": "stdout",
          "text": [
            "Report Classificador: DecisionTreeClassifier\n",
            "Classification Report:\n",
            "              precision    recall  f1-score   support\n",
            "\n",
            "           0       0.44      0.54      0.49        65\n",
            "           1       0.69      0.60      0.64       111\n",
            "\n",
            "    accuracy                           0.58       176\n",
            "   macro avg       0.57      0.57      0.57       176\n",
            "weighted avg       0.60      0.58      0.59       176\n",
            "\n",
            "\n",
            "\n",
            "Report Classificador: RandomForestClassifier\n",
            "Classification Report:\n",
            "              precision    recall  f1-score   support\n",
            "\n",
            "           0       0.62      0.46      0.53        65\n",
            "           1       0.73      0.84      0.78       111\n",
            "\n",
            "    accuracy                           0.70       176\n",
            "   macro avg       0.68      0.65      0.65       176\n",
            "weighted avg       0.69      0.70      0.69       176\n",
            "\n",
            "\n",
            "\n",
            "Report Classificador: AdaBoostClassifier\n",
            "Classification Report:\n",
            "              precision    recall  f1-score   support\n",
            "\n",
            "           0       0.43      0.69      0.53        65\n",
            "           1       0.72      0.47      0.57       111\n",
            "\n",
            "    accuracy                           0.55       176\n",
            "   macro avg       0.58      0.58      0.55       176\n",
            "weighted avg       0.62      0.55      0.56       176\n",
            "\n",
            "\n",
            "\n",
            "Report Classificador: KNeighborsClassifier\n",
            "Classification Report:\n",
            "              precision    recall  f1-score   support\n",
            "\n",
            "           0       0.49      0.54      0.51        65\n",
            "           1       0.71      0.68      0.69       111\n",
            "\n",
            "    accuracy                           0.62       176\n",
            "   macro avg       0.60      0.61      0.60       176\n",
            "weighted avg       0.63      0.62      0.63       176\n",
            "\n",
            "\n",
            "\n",
            "Report Classificador: ExtraTreesClassifier\n",
            "Classification Report:\n",
            "              precision    recall  f1-score   support\n",
            "\n",
            "           0       0.55      0.45      0.49        65\n",
            "           1       0.71      0.78      0.74       111\n",
            "\n",
            "    accuracy                           0.66       176\n",
            "   macro avg       0.63      0.61      0.62       176\n",
            "weighted avg       0.65      0.66      0.65       176\n",
            "\n",
            "\n",
            "\n",
            "Report Classificador: GaussianNB\n",
            "Classification Report:\n",
            "              precision    recall  f1-score   support\n",
            "\n",
            "           0       0.41      0.89      0.56        65\n",
            "           1       0.79      0.23      0.36       111\n",
            "\n",
            "    accuracy                           0.48       176\n",
            "   macro avg       0.60      0.56      0.46       176\n",
            "weighted avg       0.65      0.48      0.43       176\n",
            "\n",
            "\n",
            "\n",
            "Report Classificador: SVC\n",
            "Classification Report:\n",
            "              precision    recall  f1-score   support\n",
            "\n",
            "           0       0.69      0.28      0.40        65\n",
            "           1       0.69      0.93      0.79       111\n",
            "\n",
            "    accuracy                           0.69       176\n",
            "   macro avg       0.69      0.60      0.59       176\n",
            "weighted avg       0.69      0.69      0.64       176\n",
            "\n",
            "\n",
            "\n"
          ]
        }
      ],
      "source": [
        "# Aqui iremos guardar o resultado de cada modelo utilizado\n",
        "resultados = []\n",
        "\n",
        "# Divisão dos dados em treinamento e teste\n",
        "X_train, X_test, y_train, y_test = train_test_split(X, y, test_size=0.2, random_state=42)\n",
        "\n",
        "# Inicia um loop que vai passar por cada modelo que queremos testar\n",
        "for classificador in classificadores:\n",
        "\n",
        "    # Cria uma sequencia de passos que serão aplicados aos dados\n",
        "    # Nesse caso, o único passo é o próprio classificador\n",
        "    pipeline = Pipeline([\n",
        "        ('classifier', classificador)\n",
        "    ])\n",
        "\n",
        "    # Verifica qual foi a predição do modelo\n",
        "    pipeline.fit(X_train, y_train)\n",
        "    y_pred = pipeline.predict(X_test)\n",
        "\n",
        "    # Obtendo algumas métricas de avaliação para as predições do modelo\n",
        "    accuracy = accuracy_score(y_test, y_pred)\n",
        "    recall = recall_score(y_test, y_pred, average='weighted')\n",
        "    precision = precision_score(y_test, y_pred, average='weighted', zero_division=1)\n",
        "    f1 = f1_score(y_test, y_pred, average='weighted')\n",
        "\n",
        "    report = classification_report(y_test, y_pred)\n",
        "    print(f'Report Classificador: {classificador.__class__.__name__}')\n",
        "    print('Classification Report:')\n",
        "    print(report)\n",
        "    print('\\n')\n",
        "\n",
        "    # Adiciona o nome do classificador e as pontuações de cada um na lista de resultados\n",
        "    resultados.append((classificador.__class__.__name__, accuracy, recall, precision, f1))"
      ]
    },
    {
      "cell_type": "code",
      "execution_count": null,
      "metadata": {
        "colab": {
          "base_uri": "https://localhost:8080/"
        },
        "id": "7g6ikw_cC9hJ",
        "outputId": "8c1b4063-a404-4050-c2ee-69b3de1c717a"
      },
      "outputs": [
        {
          "output_type": "stream",
          "name": "stdout",
          "text": [
            "            Classificador  Acurácia    Recall  Precisão  F1-Score\n",
            "1  RandomForestClassifier  0.698864  0.698864  0.689054  0.686922\n",
            "6                     SVC  0.687500  0.687500  0.688750  0.643883\n",
            "4    ExtraTreesClassifier  0.659091  0.659091  0.648172  0.650498\n",
            "3    KNeighborsClassifier  0.625000  0.625000  0.632545  0.628064\n",
            "0  DecisionTreeClassifier  0.579545  0.579545  0.599248  0.585834\n",
            "2      AdaBoostClassifier  0.551136  0.551136  0.615294  0.555099\n",
            "5              GaussianNB  0.477273  0.477273  0.646694  0.433712\n"
          ]
        }
      ],
      "source": [
        "# Crie um DataFrame com os resultados\n",
        "resultados_df = pd.DataFrame(resultados, columns=['Classificador', 'Acurácia', 'Recall', 'Precisão', 'F1-Score'])\n",
        "\n",
        "# Ordene os resultados pela Acurácia em ordem decrescente\n",
        "resultados_df = resultados_df.sort_values(by='Acurácia', ascending=False)\n",
        "\n",
        "# Exiba os resultados dos modelos\n",
        "print(resultados_df.head(7))"
      ]
    },
    {
      "cell_type": "markdown",
      "metadata": {
        "id": "vuisqDoJ0oTB"
      },
      "source": [
        "# **Uma ideia de Projeto de Aplicação**\n",
        "\n",
        "\n",
        "Apresente aqui uma ideia de projeto original em que a tecnologia/conceito explorada poderia ser empregada. Busque apresentar um problema relevante e atual. Você não precisa implementar mas, se quiser, pode empregar o Exemplo de Aplicação anterior para isso! Neste caso basta fazer um protótipo ou uma prova de conceito. Empregue aqui no máximo 1 página.\n"
      ]
    },
    {
      "cell_type": "code",
      "execution_count": null,
      "metadata": {
        "id": "-6wa07A_C9hJ"
      },
      "outputs": [],
      "source": [
        "#testando uma nova partida\n",
        "\n",
        "# Novo conjunto de campeões\n",
        "new_match = {\n",
        "    'Champion1_Blue': 'Camille',\n",
        "    'Champion2_Blue': 'Sejuani',\n",
        "    'Champion3_Blue': 'Xerath',\n",
        "    'Champion4_Blue': 'Jhin',\n",
        "    'Champion5_Blue': 'Sona',\n",
        "    'Champion1_Red': 'Urgot',\n",
        "    'Champion2_Red': 'Lillia',\n",
        "    'Champion3_Red': 'Lux',\n",
        "    'Champion4_Red': 'Samira',\n",
        "    'Champion5_Red': 'Senna'\n",
        "}\n",
        "\n",
        "new_match_df = pd.DataFrame([new_match])"
      ]
    },
    {
      "cell_type": "code",
      "execution_count": null,
      "metadata": {
        "id": "Cg2dfbjsC9hJ"
      },
      "outputs": [],
      "source": [
        "# Combinar o novo conjunto de dados com os dados originais para garantir que todas as colunas de dummy estão presentes\n",
        "combined_df = pd.concat([df.drop('Result', axis=1), new_match_df], axis=0)\n",
        "\n",
        "# Aplicar one-hot encoding ao conjunto combinado\n",
        "combined_df_encoded = pd.get_dummies(combined_df)\n",
        "\n",
        "# Selecionar apenas as colunas do novo conjunto de dados que foram usadas no treinamento\n",
        "X_new = combined_df_encoded.tail(1)"
      ]
    },
    {
      "cell_type": "code",
      "execution_count": null,
      "metadata": {
        "colab": {
          "base_uri": "https://localhost:8080/"
        },
        "id": "baObBp3YC9hJ",
        "outputId": "aa693da1-10b9-49bf-808b-1811139a634d"
      },
      "outputs": [
        {
          "output_type": "stream",
          "name": "stdout",
          "text": [
            "Prediction for the new match: Red\n"
          ]
        }
      ],
      "source": [
        "# Modelo para fazer a previsão será o que teve os melhores resultados\n",
        "model = RandomForestClassifier(random_state=42)\n",
        "model.fit(X_train, y_train)\n",
        "\n",
        "# Fazer a previsão\n",
        "prediction = model.predict(X_new)\n",
        "\n",
        "# Converter o resultado de volta para a label original\n",
        "result = label_encoder.inverse_transform(prediction)\n",
        "\n",
        "print(f'Prediction for the new match: {result[0]}')\n"
      ]
    },
    {
      "cell_type": "markdown",
      "metadata": {
        "id": "7LtXrRFr4hg3"
      },
      "source": [
        "# **Referências**\n",
        "\n",
        "Este é um item obrigatório."
      ]
    },
    {
      "cell_type": "markdown",
      "metadata": {
        "id": "ZGpU-v6CnTaG"
      },
      "source": [
        "# **Vídeo e GitHub**\n",
        "\n",
        "Publique (YouTube ou qualquer outro de acesso público) um vídeo explicativo apresentando o seu trabalho em no máximo 4min. Foque na relevância do problema e na solução empregada. Salve em um GitHub público seu projeto (o notebook Python)."
      ]
    },
    {
      "cell_type": "markdown",
      "metadata": {
        "id": "9kwoGZeSLRsX"
      },
      "source": [
        "# **Conclusão**\n",
        "\n",
        "Apresente a conclusão do seu estudo. Indique limitações da tecnologia/conceitos, novos avanços e compare com tecnologias/conceitos concorrentes.\n",
        "\n"
      ]
    },
    {
      "cell_type": "markdown",
      "metadata": {
        "id": "EHohsrFbpksT"
      },
      "source": [
        "# **Apêndice**\n",
        "\n",
        "Link da Apresentação no YouTube:\n"
      ]
    },
    {
      "cell_type": "code",
      "execution_count": null,
      "metadata": {
        "colab": {
          "base_uri": "https://localhost:8080/",
          "height": 322
        },
        "id": "LqJACWuip3YG",
        "outputId": "d116b211-28af-4225-bb03-2b19946521de"
      },
      "outputs": [
        {
          "output_type": "execute_result",
          "data": {
            "text/plain": [
              "<IPython.lib.display.YouTubeVideo at 0x7c1705912aa0>"
            ],
            "text/html": [
              "\n",
              "        <iframe\n",
              "            width=\"400\"\n",
              "            height=\"300\"\n",
              "            src=\"https://www.youtube.com/embed/ssSCGwy_Qfo\"\n",
              "            frameborder=\"0\"\n",
              "            allowfullscreen\n",
              "            \n",
              "        ></iframe>\n",
              "        "
            ],
            "image/jpeg": "[encoded data removed]"
          },
          "metadata": {},
          "execution_count": 10
        }
      ],
      "source": [
        "from IPython.display import YouTubeVideo\n",
        "YouTubeVideo('ssSCGwy_Qfo') # substitua pelo seu vídeo"
      ]
    },
    {
      "cell_type": "markdown",
      "metadata": {
        "id": "8crUBC3IQ3U_"
      },
      "source": [
        "---"
      ]
    },
    {
      "cell_type": "code",
      "execution_count": null,
      "metadata": {
        "cellView": "form",
        "id": "BluFtfHuCGzm"
      },
      "outputs": [],
      "source": [
        "#@title **Avaliação**\n",
        "Referencial_Teorico = 10 #@param {type:\"slider\", min:0, max:10, step:1}\n",
        "\n",
        "Conceitos_Chave = 9 #@param {type:\"slider\", min:0, max:10, step:1}\n",
        "\n",
        "Exemplo_Aplicacao = 6 #@param {type:\"slider\", min:0, max:10, step:1}\n",
        "\n",
        "Ideia_Projeto = 7 #@param {type:\"slider\", min:0, max:10, step:1}\n",
        "\n",
        "Conclusao = 7 #@param {type:\"slider\", min:0, max:10, step:1}\n",
        "\n",
        "\n",
        "\n",
        "\n",
        "\n",
        "\n"
      ]
    },
    {
      "cell_type": "code",
      "execution_count": null,
      "metadata": {
        "cellView": "form",
        "colab": {
          "base_uri": "https://localhost:8080/",
          "height": 277
        },
        "id": "2Gqw7hUZHyle",
        "outputId": "07ea372c-1f49-4124-aa27-cf27a9a8ca98"
      },
      "outputs": [
        {
          "output_type": "stream",
          "name": "stdout",
          "text": [
            "Nota final do trabalho 7.4\n"
          ]
        },
        {
          "output_type": "error",
          "ename": "NameError",
          "evalue": "name 'Aluno1' is not defined",
          "traceback": [
            "\u001b[0;31m---------------------------------------------------------------------------\u001b[0m",
            "\u001b[0;31mNameError\u001b[0m                                 Traceback (most recent call last)",
            "\u001b[0;32m<ipython-input-12-e1e0c0ecc7c0>\u001b[0m in \u001b[0;36m<cell line: 16>\u001b[0;34m()\u001b[0m\n\u001b[1;32m     15\u001b[0m \u001b[0;34m\u001b[0m\u001b[0m\n\u001b[1;32m     16\u001b[0m \u001b[0;32mfor\u001b[0m \u001b[0mi\u001b[0m \u001b[0;32min\u001b[0m \u001b[0mrange\u001b[0m\u001b[0;34m(\u001b[0m\u001b[0;36m1\u001b[0m\u001b[0;34m,\u001b[0m\u001b[0;36m6\u001b[0m\u001b[0;34m)\u001b[0m\u001b[0;34m:\u001b[0m\u001b[0;34m\u001b[0m\u001b[0;34m\u001b[0m\u001b[0m\n\u001b[0;32m---> 17\u001b[0;31m   \u001b[0mexec\u001b[0m\u001b[0;34m(\u001b[0m\u001b[0;34m\"if Aluno\"\u001b[0m \u001b[0;34m+\u001b[0m \u001b[0mstr\u001b[0m\u001b[0;34m(\u001b[0m\u001b[0mi\u001b[0m\u001b[0;34m)\u001b[0m \u001b[0;34m+\u001b[0m \u001b[0;34m\" !='None':  lista = Aluno\"\u001b[0m \u001b[0;34m+\u001b[0m \u001b[0mstr\u001b[0m\u001b[0;34m(\u001b[0m\u001b[0mi\u001b[0m\u001b[0;34m)\u001b[0m \u001b[0;34m+\u001b[0m \u001b[0;34m\".split(','); lista_tia.append(lista[0]); lista_nome.append(lista[1].upper())\"\u001b[0m\u001b[0;34m)\u001b[0m\u001b[0;34m\u001b[0m\u001b[0;34m\u001b[0m\u001b[0m\n\u001b[0m\u001b[1;32m     18\u001b[0m \u001b[0;34m\u001b[0m\u001b[0m\n\u001b[1;32m     19\u001b[0m \u001b[0malunos\u001b[0m\u001b[0;34m[\u001b[0m\u001b[0;34m'tia'\u001b[0m\u001b[0;34m]\u001b[0m \u001b[0;34m=\u001b[0m \u001b[0mlista_tia\u001b[0m\u001b[0;34m\u001b[0m\u001b[0;34m\u001b[0m\u001b[0m\n",
            "\u001b[0;32m<string>\u001b[0m in \u001b[0;36m<module>\u001b[0;34m\u001b[0m\n",
            "\u001b[0;31mNameError\u001b[0m: name 'Aluno1' is not defined"
          ]
        }
      ],
      "source": [
        "#@title **Nota Final**\n",
        "nota = Referencial_Teorico + Conceitos_Chave + 2*Exemplo_Aplicacao + 2*Ideia_Projeto + Conclusao\n",
        "\n",
        "nota = nota / 7\n",
        "\n",
        "print(f'Nota final do trabalho {nota :.1f}')\n",
        "\n",
        "import numpy as np\n",
        "import pandas as pd\n",
        "\n",
        "alunos = pd.DataFrame()\n",
        "\n",
        "lista_tia = []\n",
        "lista_nome = []\n",
        "\n",
        "for i in range(1,6):\n",
        "  exec(\"if Aluno\" + str(i) + \" !='None':  lista = Aluno\" + str(i) + \".split(','); lista_tia.append(lista[0]); lista_nome.append(lista[1].upper())\")\n",
        "\n",
        "alunos['tia'] = lista_tia\n",
        "alunos['nome'] = lista_nome\n",
        "alunos['nota'] = np.round(nota,1)\n",
        "print()\n",
        "display(alunos)"
      ]
    }
  ],
  "metadata": {
    "colab": {
      "provenance": [],
      "include_colab_link": true
    },
    "kernelspec": {
      "display_name": "Python 3",
      "language": "python",
      "name": "python3"
    },
    "language_info": {
      "codemirror_mode": {
        "name": "ipython",
        "version": 3
      },
      "file_extension": ".py",
      "mimetype": "text/x-python",
      "name": "python",
      "nbconvert_exporter": "python",
      "pygments_lexer": "ipython3",
      "version": "3.11.2"
    }
  },
  "nbformat": 4,
  "nbformat_minor": 0
}