{
  "cells": [
    {
      "cell_type": "markdown",
      "metadata": {
        "id": "view-in-github",
        "colab_type": "text"
      },
      "source": [
        "<a href=\"https://colab.research.google.com/github/L3borim/LoL-Match-Prediction-Project-IA2024S1/blob/main/IA_2024S1_Projeto.ipynb\" target=\"_parent\"><img src=\"https://colab.research.google.com/assets/colab-badge.svg\" alt=\"Open In Colab\"/></a>"
      ]
    },
    {
      "cell_type": "markdown",
      "metadata": {
        "id": "40b90843"
      },
      "source": [
        "<img src=\"http://meusite.mackenzie.br/rogerio/mackenzie_logo/UPM.2_horizontal_vermelho.jpg\"  width=300, align=\"right\">\n",
        "<br>\n",
        "<br>\n",
        "<br>\n",
        "<br>\n",
        "<br>\n",
        "\n",
        "# ***Predição de Melhor Composição de Campeões em um contexto de alto desempenho no League of Legends***\n",
        "---"
      ]
    },
    {
      "cell_type": "code",
      "execution_count": null,
      "metadata": {
        "id": "rYx9D4GZA5o9",
        "cellView": "form"
      },
      "outputs": [],
      "source": [
        "#@title **Identificação do Grupo**\n",
        "\n",
        "#@markdown Integrantes do Grupo, nome completo em orgem alfabética (*informe \\<TIA\\>,\\<nome\\>*)\n",
        "Aluno1 = '10375711, Gabriel Marques G. Almeida' #@param {type:\"string\"}\n",
        "Aluno2 = '10390123, Leonardo Borim Silva' #@param {type:\"string\"}\n",
        "Aluno3 = '10390316, Mateus Yoon' #@param {type:\"string\"}\n",
        "Aluno4 = '10390484, Samy Idesis' #@param {type:\"string\"}\n",
        "\n"
      ]
    },
    {
      "cell_type": "markdown",
      "metadata": {
        "id": "JlCIc2YooBW7"
      },
      "source": [
        "# **Resumo (*Abstract*)**\n",
        "\n",
        "Este projeto acadêmico visa desenvolver um modelo preditivo que possa determinar o vencedor de uma partida de League of Legends, utilizando dados fornecidos pela API da Riot Games. O foco está nas partidas do ranking mais alto, o \"Challenger\", garantindo a qualidade e a competitividade dos partidas analisadas, as quais totalizaram 805, com o foco na coleta dos campeões escolhidos por jogadores tanto do lado azul (blue) quanto do lado vermelho (red) e o resultado final de cada confronto.\n",
        "\n",
        "O processo de desenvolvimento envolveu a extração dos dados dos campeões selecionados em cada equipe e a utilização desses dados para treinar um modelo de aprendizado supervisionado. A intenção é que, com base nas escolhas dos campeões, o modelo consiga prever com precisão o vencedor de futuras partidas.\n",
        "\n",
        "Além disso, o projeto avalia diferentes modelos de classificação para determinar qual oferece a melhor precisão nas previsões. O desempenho dos modelos é avaliado utilizando métricas padrão, como acurácia, precisão e recall, para assegurar que as previsões sejam confiáveis. Portanto, este trabalho não só contribui para o campo de análise de dados em e-sports, mas também oferece insights valiosos sobre a importância das escolhas de campeões em partidas de alto nível de League of Legends e sua aplicação em cenários de alta performance."
      ]
    },
    {
      "cell_type": "markdown",
      "metadata": {
        "id": "A4-f8AtfKAn2"
      },
      "source": [
        "# **Referencial Teórico**\n",
        "\n",
        "\n",
        "\n"
      ]
    },
    {
      "cell_type": "markdown",
      "metadata": {
        "id": "69Ed6lD7vmi7"
      },
      "source": [
        "\n",
        "\n",
        "> ## **Conceitos Chave**\n",
        "\n",
        "> ### 1. *League of Legends*\n",
        "O projeto teve como motivação o jogo MOBA \"League of Legends\" que através das últimas 805 partidas do maior ranking do jogo, o \"Challenger\", possa se obter a probabilidade de vitória de um time vencer apenas através da composição de cada time.\n",
        "> ### 2. *Coleta de Dados API Riot Games*\n",
        "Para o início do projeto foi utilizado a API da Riot Games (https://developer.riotgames.com/apis) para a coleta dos dados das partidas, sendo possível observar o passo a passo feito na aba de \"Implementação\". Sendo essencial para o trabalho tendo em vista que será a única base de dados que teremos para o projeto.\n",
        "\n",
        "> ### 3. *Aprendizado Supervisionado*\n",
        "O aprendizado supervisionado utiliza conjuntos de treinamentos para ensinar os modelos a produzir os resultados desejados, fazendo com que ele aprenda com entradas (Composição dos times) e saídas (Time vencedor) durante o tempo.\n",
        "\n",
        "> ### 4. *Modelos de classificação*\n",
        "Para a conclusão do projeto foi utilizado diversos modelos de classificação, tendo como objetivo proporcionar uma análise dos dados mais completas possível, permitindo a identificação do melhor modelo para a obtenção de previsões mais precisas, tendo em vista que cada modelo de classificação possui seu próprio mecanismo de funcionamento, levando a desempenhos variados em diferentes tipos de dados.\n",
        "\n",
        "> ### 4.1 *Árvore de decisão*\n",
        "O modelo de árvore de decisão tem como princípio empregar a probabilidade dos valores dos atributos no lugar dos próprios valores. Nesse modelo os dados de treinamento não sao armazenados, mas são \"modelados\" em uma estrutura de árvore e divide recursivamente o espaço em regiões com classes semelhantes, tentando encontrar um padrão entre os nós até que não haja impureza nos dados.\n",
        "\n",
        "> ### 4.2 *Floresta aleatória*\n",
        "Diferentemente da árvore de decisão comum, o algorítmo floresta aleatória, como o próprio nome já diz, adiciona aleatoriedade na seleção dos atributos, e é denominado como floresta justamente por combinar diversas árvores de decisão, onde cada árvore terá influência no resultado final, como forma de melhorar a precisão e podendo ser responsável por resolver problemas como o de Overfiting - quando uma árvore cresce muito e seus dados não são bem trabalhados, ela tende a apresentar um ajuste excessivo exclusivo aos dados de treinamento, manifestando dificuldade para generalização de novas previsões.\n",
        "\n",
        "> ### 4.3 *AdaBoost Classifier*\n",
        "O nome acima é derivado de adaptative boosting (reforço adaptável) que é um modelo de classificação que, por combina múltiplos algoritmos de classificação fracos, aqueles que são simples e apresentam desempenho indesejável - mas melhor do que advinhar respostas aleatoriamente, para trnasformá-los em um único forte. Seu funcionamento ocorre por meio da atualização dos pesos atribuídos (com base no percentual) de cada algoritmo que ele testa para classificar, de forma iterativa, ou seja, vai treinando uma série de classificadores fracos de forma iterativa e ajustando os pesos dos exemplos de treinamento com base no desempenho dos classificadores anteriores, até chegar no classificador combinado, o forte.\n",
        "\n",
        "> ### 4.4 *K-Vizinhos mais próximos*\n",
        "O algoritmo K-vizinhos mais próximos é um dos modelos mais simples, ele utiliza distância/proximidade do ponto mais próximo como método de previsão, isto é, se os vizinhos mais próximos forem majoritariamente de uma classe, a amostra em questão será classificada nesta categoria.\n",
        "\n",
        "> ### 4.5 *Extra Trees classifier*\n",
        "O extra tree provém de Extremely Randomized Trees, e é um algoritmo baseado nas árvores de decisão, sendo uma variante do Random Forest (visto anteriormente)por trazer mais um fator de aleatoriedade. Diferentemente do Random Forest, cada árvore de decisão construída irá escolher de forma completamente aletória qual limiar de atributo será adotado em cada divisão, ou seja, o parâmetro \"splitter\" (ponto de divisão) sendo igual a \"random\". Não ter que buscar sempre o melhor ponto de divisão torna tal algoritmo muito mais rápido de se treinar e aleatório para a construção das árvores em compração com o Random Forest.\n",
        "\n",
        "> ### 4.6 *GaussianNB classifier*\n",
        "O algoritmo Naive Bayes Gaussiano é um classificador probabilístico que assume que as features são independentes entre si (Naive = Ingênuo) facilitando o cálculo das probabilidades para a classificação. Ele define uma tabela de probabilidades que consta a frequência dos preditores com relação às variáveis de saída, e para o cálculo final escolhe a classe que maximiza a probabilidade dada as características observadas. O algoritmo é simples e rápido e frequentemente utilizado para classificar textos, como classificação de e-mails como spam ou não spam.\n",
        "\n",
        "> ### 4.7 *SVC*\n",
        "SVC é uma implementação especíica do algoritmo SVM projetada para tarefas de classificação. Seu funcionamento decorre de ajustar os dados fornecidos como treinamento, retornando um hiperplano que melhor separa ou categoriza os diferentes grupos de dados. Com isso é possível alimentar o classificador para prever a qual grupo novos dados pertencem."
      ]
    },
    {
      "cell_type": "markdown",
      "metadata": {
        "id": "4wfTEdMMxqFK"
      },
      "source": [
        "# **Exemplo de Aplicação**\n",
        "\n",
        "O projeto proposto possuem diversas  maneiras que possam ser aplicados positivamente, sendo bem presentes em contextos de cenários profissionais, tendo como exemplos:\n",
        "\n",
        "> ### 1. *Ferramenta para analise de composições*\n",
        "Em cenários competitivos, a montagem de composições é crucial para que possa se arranjar vantagens sob o outro time ou até a vitória. Sabendo disso, a ferramenta pode ser essencial a tomar decisões mais eficazes, escolhendo composições que maximizem as chances de vitórias.\n",
        "\n",
        "> ### 2. *Aplicação em outros jogos*\n",
        "O League of Legends foi apenas usado como jogo base, porém muitos outros jogos podem utilizar a ferramenta para análises de composições de forma a melhorar o desempenho da equipe.\n"
      ]
    },
    {
      "cell_type": "markdown",
      "metadata": {
        "id": "FyFHbT8vygVp"
      },
      "source": [
        "# **Implementação**"
      ]
    },
    {
      "cell_type": "markdown",
      "source": [
        "## Bibliotecas que vão ser utilizadas ao longo da implementação:"
      ],
      "metadata": {
        "id": "-LHfnzJnO0uZ"
      }
    },
    {
      "cell_type": "code",
      "execution_count": null,
      "metadata": {
        "id": "fI3k2DDDC9hH"
      },
      "outputs": [],
      "source": [
        "import numpy as np\n",
        "import pandas as pd\n",
        "import matplotlib.pyplot as plt\n",
        "%matplotlib inline\n",
        "from matplotlib.lines import Line2D\n",
        "import seaborn as sns\n",
        "\n",
        "from sklearn.model_selection import train_test_split\n",
        "from sklearn.metrics import accuracy_score, classification_report\n",
        "from sklearn.preprocessing import LabelEncoder, OneHotEncoder\n",
        "from sklearn.pipeline import Pipeline\n",
        "from sklearn.metrics import accuracy_score, recall_score, precision_score, f1_score\n",
        "from sklearn.tree import DecisionTreeClassifier\n",
        "from sklearn.ensemble import RandomForestClassifier, AdaBoostClassifier, ExtraTreesClassifier\n",
        "from sklearn.neighbors import KNeighborsClassifier\n",
        "from sklearn.naive_bayes import GaussianNB\n",
        "from sklearn.svm import SVC"
      ]
    },
    {
      "cell_type": "markdown",
      "source": [
        "## Criação do dataset de partidas\n",
        "\n",
        "Este codigo apresenta como foi feita a coleta de dados usando a API da Riot Games. Colocamos como texto para mostra como foi a coleta e usamos depois um csv para o treinamento pois demora para obter os dados já que a API tem limite no número de requsições.\n",
        "\n",
        "As céluas seguintes serão puladas da execução pois apenas explicam como foi obtida a tabela de dados e envolvem a questão da demora de excução da API citada anteriormente.\n"
      ],
      "metadata": {
        "id": "RHqWoPVOawHa"
      }
    },
    {
      "cell_type": "markdown",
      "source": [
        "### 1. **Bibliotecas Utilizadas**"
      ],
      "metadata": {
        "id": "aE2HFNgrEg55"
      }
    },
    {
      "cell_type": "code",
      "source": [
        "if False:\n",
        "  import requests\n",
        "  import time"
      ],
      "metadata": {
        "id": "4H8Lgp1CEf6k"
      },
      "execution_count": null,
      "outputs": []
    },
    {
      "cell_type": "markdown",
      "source": [
        "### 2. Chave utilizado para uso da API:\n",
        "\n",
        "A Chave vence após 24h (é necessario criar uma conta RIOT). Além disso, a chave abaixo é fictícia e para obtenção dos dados foi usada uma chave válida, a qual não foi compartilhada aqui nesse notebook por ser um dado sensível e não pode ser compartilhado de acordo com as políticas da Riot Games.\n",
        "\n",
        "Para o correto funcionamento do código completo, é necessário usar uma chave válida."
      ],
      "metadata": {
        "id": "r2UwSb_dEsNw"
      }
    },
    {
      "cell_type": "code",
      "source": [
        "api_key = \"RGAPI-abcdefgh-1234-5678--1a2b3c4d5f6g\""
      ],
      "metadata": {
        "id": "x-5io6onFC0S"
      },
      "execution_count": null,
      "outputs": []
    },
    {
      "cell_type": "markdown",
      "source": [
        "### 3. Captura dos IDs das partidas\n",
        "\n",
        "Essa funçao usa a API para pegar o ID da partidas usando o PUUID do jogador."
      ],
      "metadata": {
        "id": "P0tjRLCSFD8p"
      }
    },
    {
      "cell_type": "code",
      "source": [
        "if False:\n",
        "  def get_all_match_ids(puuid, region='americas', total_count=200):\n",
        "    match_ids = []\n",
        "    for start in range(0, total_count, 100):\n",
        "        matches_url = f\"https://{region}.api.riotgames.com/lol/match/v5/matches/by-puuid/{puuid}/ids?start={start}&count=100&api_key={api_key}\"\n",
        "        matches_response = requests.get(matches_url)\n",
        "        match_ids.extend(matches_response.json())\n",
        "\n",
        "\n",
        "        time.sleep(1)\n",
        "    return match_ids"
      ],
      "metadata": {
        "id": "UM0a7HbTFTMF"
      },
      "execution_count": null,
      "outputs": []
    },
    {
      "cell_type": "markdown",
      "source": [
        "### 4. Captura dos detalhes das partidas\n",
        "\n",
        "Essa função utiliza o ID da partida para pegar os detalhes das partidas (Ex. Número de kills, mortes, assistências, nível, etc.), no entanto, vamos pegar apenas quais os 10 campeões que participaram da partida."
      ],
      "metadata": {
        "id": "qbLnBhY0FbVD"
      }
    },
    {
      "cell_type": "code",
      "source": [
        "if False:\n",
        "  def get_match_details(match_id, region='americas'):\n",
        "    match_url = f\"https://{region}.api.riotgames.com/lol/match/v5/matches/{match_id}?api_key={api_key}\"\n",
        "    while True:\n",
        "        match_response = requests.get(match_url)\n",
        "        if match_response.status_code == 200:\n",
        "            return match_response.json()\n",
        "        elif match_response.status_code == 429:\n",
        "            retry_after = int(match_response.headers.get('Retry-After', 1))\n",
        "            time.sleep(retry_after)\n",
        "        else:\n",
        "            match_response.raise_for_status()"
      ],
      "metadata": {
        "id": "1Pzvs4-8FyK9"
      },
      "execution_count": null,
      "outputs": []
    },
    {
      "cell_type": "markdown",
      "source": [
        "### 5. Captura do [PUUID](https://www.riotgames.com/en/DevRel/player-universally-unique-identifiers-and-a-new-security-layer) do jogador\n",
        "\n",
        "Essa função obtem o PUUID (*Player Universally Unique Identifier*) de um jogador usando seus respectivos RIOT_ID e tag, que são dados públicos."
      ],
      "metadata": {
        "id": "b5tIPFCrFz1V"
      }
    },
    {
      "cell_type": "code",
      "source": [
        "if False:\n",
        "  def get_puuid(riot_id, tag_line, region='americas'):\n",
        "    puuid_url = f\"https://{region}.api.riotgames.com/riot/account/v1/accounts/by-riot-id/{riot_id}%20/{tag_line}?api_key={api_key}\"\n",
        "    puuid_response = requests.get(puuid_url)\n",
        "\n",
        "\n",
        "    if puuid_response.status_code != 200:\n",
        "      raise Exception(f\"Erro ao buscar PUUID: {puuid_response.status_code}\")\n",
        "\n",
        "    puuid_data = puuid_response.json()\n",
        "\n",
        "\n",
        "    if 'puuid' not in puuid_data:\n",
        "      raise KeyError(\"'puuid' não encontrado na resposta da API\")\n",
        "\n",
        "    return puuid_data['puuid']"
      ],
      "metadata": {
        "id": "msQVlCPiGBx-"
      },
      "execution_count": null,
      "outputs": []
    },
    {
      "cell_type": "markdown",
      "source": [
        "### 6. Lista de jogadores\n",
        "Estes foram os jogadores utilizados para a captura das partidas e dos campões utilizados nelas. Os seguintes jogadores correspondem ao 5 melhores rankeados das filas competitivas de League of Legends no Brasil.\n",
        "\n"
      ],
      "metadata": {
        "id": "INbWC2mqGOW1"
      }
    },
    {
      "cell_type": "code",
      "source": [
        "if False:\n",
        "  players = [\n",
        "  ('randal', 'zero1'),\n",
        "  ('fuuuuuuuu', '99999'),\n",
        "  ('Dernière danse', 'IMPz'),\n",
        "  ('frosty', 'KR3'),\n",
        "  ('Kojima', '2840'),\n",
        "  ]\n",
        "  region = 'americas'"
      ],
      "metadata": {
        "id": "wpuCVtf9GmWt"
      },
      "execution_count": null,
      "outputs": []
    },
    {
      "cell_type": "markdown",
      "source": [
        "### 7. Coleta de dados de partidas para todos os jogadores"
      ],
      "metadata": {
        "id": "cbsVtp43HtcK"
      }
    },
    {
      "cell_type": "code",
      "source": [
        "if False:\n",
        "  all_matches_data = []\n",
        "  for riot_id, tag_line in players:\n",
        "    puuid = get_puuid(riot_id, tag_line, region)\n",
        "    match_ids = get_all_match_ids(puuid)\n",
        "    for match_id in match_ids:\n",
        "      match_details = get_match_details(match_id)\n",
        "      all_matches_data.append(match_details)"
      ],
      "metadata": {
        "id": "jR5c1OcVHicj"
      },
      "execution_count": null,
      "outputs": []
    },
    {
      "cell_type": "markdown",
      "source": [
        "### 8. Processamento\n",
        "\n",
        "Processamento dos dados das partidas para criação do dataFrame, onde é obtido da partida apenas os campeões de cada time e o vencedor da partida.\n"
      ],
      "metadata": {
        "id": "qUnlWBBTHyDE"
      }
    },
    {
      "cell_type": "code",
      "source": [
        "if False:\n",
        "  data = []\n",
        "  for match in all_matches_data:\n",
        "    blue_team = [p['championName'] for p in match['info']['participants'] if p['teamId'] == 100]\n",
        "    red_team = [p['championName'] for p in match['info']['participants'] if p['teamId'] == 200]\n",
        "\n",
        "\n",
        "  if len(blue_team) == 5 and len(red_team) == 5:\n",
        "    result = 'Blue' if match['info']['teams'][0]['win'] else 'Red'\n",
        "    data.append(blue_team + red_team + [result])\n",
        "\n",
        "  columns = ['Champion1_Blue', 'Champion2_Blue', 'Champion3_Blue', 'Champion4_Blue', 'Champion5_Blue',\n",
        "            'Champion1_Red', 'Champion2_Red', 'Champion3_Red', 'Champion4_Red', 'Champion5_Red', 'Result']\n",
        "\n",
        "  df = pd.DataFrame(data, columns=columns)"
      ],
      "metadata": {
        "id": "5PXk4YRfIIhT"
      },
      "execution_count": null,
      "outputs": []
    },
    {
      "cell_type": "markdown",
      "source": [
        "### 9. Criação e Download do arquivo .csv"
      ],
      "metadata": {
        "id": "bC8oNPZTIrM5"
      }
    },
    {
      "cell_type": "code",
      "source": [
        "if False:\n",
        "  from google.colab import files\n",
        "\n",
        "  csv_file = 'partidas_data.csv'\n",
        "  df.to_csv(csv_file, index=False)\n",
        "\n",
        "  files.download(csv_file)"
      ],
      "metadata": {
        "id": "rZd5Puq0I2BC"
      },
      "execution_count": null,
      "outputs": []
    },
    {
      "cell_type": "markdown",
      "source": [
        "## Leitura do arquivo .csv gerado presente no repositório"
      ],
      "metadata": {
        "id": "1juQ3YaAI8fN"
      }
    },
    {
      "cell_type": "code",
      "execution_count": null,
      "metadata": {
        "colab": {
          "base_uri": "https://localhost:8080/",
          "height": 206
        },
        "id": "NFDyoFSjC9hI",
        "outputId": "c4f2b95d-0711-4471-ad7d-1ec62a344cd1"
      },
      "outputs": [
        {
          "output_type": "execute_result",
          "data": {
            "text/plain": [
              "  Champion1_Blue Champion2_Blue Champion3_Blue Champion4_Blue Champion5_Blue  \\\n",
              "0        Camille          Poppy         Qiyana       Tristana       Pantheon   \n",
              "1          Akali           Kayn           Ryze          Corki       Nautilus   \n",
              "2        Camille        Sejuani           Hwei        Caitlyn           Rell   \n",
              "3        Camille         LeeSin           Hwei           Jhin           Sona   \n",
              "4        Camille       JarvanIV         Xerath           Jhin       Nautilus   \n",
              "\n",
              "  Champion1_Red Champion2_Red Champion3_Red Champion4_Red Champion5_Red Result  \n",
              "0         Urgot         Brand        Twitch        Lucian         Milio    Red  \n",
              "1         Garen        Lillia       Leblanc          Jinx         Milio    Red  \n",
              "2           Jax        LeeSin           Lux          Jhin         Janna    Red  \n",
              "3      Vladimir       Skarner         Yasuo        Samira         Milio   Blue  \n",
              "4         Jayce        Lillia           Lux     Seraphine         Senna    Red  "
            ],
            "text/html": [
              "\n",
              "  <div id=\"df-18912205-bbc4-4b8d-9890-cccc51832453\" class=\"colab-df-container\">\n",
              "    <div>\n",
              "<style scoped>\n",
              "    .dataframe tbody tr th:only-of-type {\n",
              "        vertical-align: middle;\n",
              "    }\n",
              "\n",
              "    .dataframe tbody tr th {\n",
              "        vertical-align: top;\n",
              "    }\n",
              "\n",
              "    .dataframe thead th {\n",
              "        text-align: right;\n",
              "    }\n",
              "</style>\n",
              "<table border=\"1\" class=\"dataframe\">\n",
              "  <thead>\n",
              "    <tr style=\"text-align: right;\">\n",
              "      <th></th>\n",
              "      <th>Champion1_Blue</th>\n",
              "      <th>Champion2_Blue</th>\n",
              "      <th>Champion3_Blue</th>\n",
              "      <th>Champion4_Blue</th>\n",
              "      <th>Champion5_Blue</th>\n",
              "      <th>Champion1_Red</th>\n",
              "      <th>Champion2_Red</th>\n",
              "      <th>Champion3_Red</th>\n",
              "      <th>Champion4_Red</th>\n",
              "      <th>Champion5_Red</th>\n",
              "      <th>Result</th>\n",
              "    </tr>\n",
              "  </thead>\n",
              "  <tbody>\n",
              "    <tr>\n",
              "      <th>0</th>\n",
              "      <td>Camille</td>\n",
              "      <td>Poppy</td>\n",
              "      <td>Qiyana</td>\n",
              "      <td>Tristana</td>\n",
              "      <td>Pantheon</td>\n",
              "      <td>Urgot</td>\n",
              "      <td>Brand</td>\n",
              "      <td>Twitch</td>\n",
              "      <td>Lucian</td>\n",
              "      <td>Milio</td>\n",
              "      <td>Red</td>\n",
              "    </tr>\n",
              "    <tr>\n",
              "      <th>1</th>\n",
              "      <td>Akali</td>\n",
              "      <td>Kayn</td>\n",
              "      <td>Ryze</td>\n",
              "      <td>Corki</td>\n",
              "      <td>Nautilus</td>\n",
              "      <td>Garen</td>\n",
              "      <td>Lillia</td>\n",
              "      <td>Leblanc</td>\n",
              "      <td>Jinx</td>\n",
              "      <td>Milio</td>\n",
              "      <td>Red</td>\n",
              "    </tr>\n",
              "    <tr>\n",
              "      <th>2</th>\n",
              "      <td>Camille</td>\n",
              "      <td>Sejuani</td>\n",
              "      <td>Hwei</td>\n",
              "      <td>Caitlyn</td>\n",
              "      <td>Rell</td>\n",
              "      <td>Jax</td>\n",
              "      <td>LeeSin</td>\n",
              "      <td>Lux</td>\n",
              "      <td>Jhin</td>\n",
              "      <td>Janna</td>\n",
              "      <td>Red</td>\n",
              "    </tr>\n",
              "    <tr>\n",
              "      <th>3</th>\n",
              "      <td>Camille</td>\n",
              "      <td>LeeSin</td>\n",
              "      <td>Hwei</td>\n",
              "      <td>Jhin</td>\n",
              "      <td>Sona</td>\n",
              "      <td>Vladimir</td>\n",
              "      <td>Skarner</td>\n",
              "      <td>Yasuo</td>\n",
              "      <td>Samira</td>\n",
              "      <td>Milio</td>\n",
              "      <td>Blue</td>\n",
              "    </tr>\n",
              "    <tr>\n",
              "      <th>4</th>\n",
              "      <td>Camille</td>\n",
              "      <td>JarvanIV</td>\n",
              "      <td>Xerath</td>\n",
              "      <td>Jhin</td>\n",
              "      <td>Nautilus</td>\n",
              "      <td>Jayce</td>\n",
              "      <td>Lillia</td>\n",
              "      <td>Lux</td>\n",
              "      <td>Seraphine</td>\n",
              "      <td>Senna</td>\n",
              "      <td>Red</td>\n",
              "    </tr>\n",
              "  </tbody>\n",
              "</table>\n",
              "</div>\n",
              "    <div class=\"colab-df-buttons\">\n",
              "\n",
              "  <div class=\"colab-df-container\">\n",
              "    <button class=\"colab-df-convert\" onclick=\"convertToInteractive('df-18912205-bbc4-4b8d-9890-cccc51832453')\"\n",
              "            title=\"Convert this dataframe to an interactive table.\"\n",
              "            style=\"display:none;\">\n",
              "\n",
              "  <svg xmlns=\"http://www.w3.org/2000/svg\" height=\"24px\" viewBox=\"0 -960 960 960\">\n",
              "    <path d=\"M120-120v-720h720v720H120Zm60-500h600v-160H180v160Zm220 220h160v-160H400v160Zm0 220h160v-160H400v160ZM180-400h160v-160H180v160Zm440 0h160v-160H620v160ZM180-180h160v-160H180v160Zm440 0h160v-160H620v160Z\"/>\n",
              "  </svg>\n",
              "    </button>\n",
              "\n",
              "  <style>\n",
              "    .colab-df-container {\n",
              "      display:flex;\n",
              "      gap: 12px;\n",
              "    }\n",
              "\n",
              "    .colab-df-convert {\n",
              "      background-color: #E8F0FE;\n",
              "      border: none;\n",
              "      border-radius: 50%;\n",
              "      cursor: pointer;\n",
              "      display: none;\n",
              "      fill: #1967D2;\n",
              "      height: 32px;\n",
              "      padding: 0 0 0 0;\n",
              "      width: 32px;\n",
              "    }\n",
              "\n",
              "    .colab-df-convert:hover {\n",
              "      background-color: #E2EBFA;\n",
              "      box-shadow: 0px 1px 2px rgba(60, 64, 67, 0.3), 0px 1px 3px 1px rgba(60, 64, 67, 0.15);\n",
              "      fill: #174EA6;\n",
              "    }\n",
              "\n",
              "    .colab-df-buttons div {\n",
              "      margin-bottom: 4px;\n",
              "    }\n",
              "\n",
              "    [theme=dark] .colab-df-convert {\n",
              "      background-color: #3B4455;\n",
              "      fill: #D2E3FC;\n",
              "    }\n",
              "\n",
              "    [theme=dark] .colab-df-convert:hover {\n",
              "      background-color: #434B5C;\n",
              "      box-shadow: 0px 1px 3px 1px rgba(0, 0, 0, 0.15);\n",
              "      filter: drop-shadow(0px 1px 2px rgba(0, 0, 0, 0.3));\n",
              "      fill: #FFFFFF;\n",
              "    }\n",
              "  </style>\n",
              "\n",
              "    <script>\n",
              "      const buttonEl =\n",
              "        document.querySelector('#df-18912205-bbc4-4b8d-9890-cccc51832453 button.colab-df-convert');\n",
              "      buttonEl.style.display =\n",
              "        google.colab.kernel.accessAllowed ? 'block' : 'none';\n",
              "\n",
              "      async function convertToInteractive(key) {\n",
              "        const element = document.querySelector('#df-18912205-bbc4-4b8d-9890-cccc51832453');\n",
              "        const dataTable =\n",
              "          await google.colab.kernel.invokeFunction('convertToInteractive',\n",
              "                                                    [key], {});\n",
              "        if (!dataTable) return;\n",
              "\n",
              "        const docLinkHtml = 'Like what you see? Visit the ' +\n",
              "          '<a target=\"_blank\" href=https://colab.research.google.com/notebooks/data_table.ipynb>data table notebook</a>'\n",
              "          + ' to learn more about interactive tables.';\n",
              "        element.innerHTML = '';\n",
              "        dataTable['output_type'] = 'display_data';\n",
              "        await google.colab.output.renderOutput(dataTable, element);\n",
              "        const docLink = document.createElement('div');\n",
              "        docLink.innerHTML = docLinkHtml;\n",
              "        element.appendChild(docLink);\n",
              "      }\n",
              "    </script>\n",
              "  </div>\n",
              "\n",
              "\n",
              "<div id=\"df-aa77ca0e-c8a6-4780-ad6b-5e3b6dddef0b\">\n",
              "  <button class=\"colab-df-quickchart\" onclick=\"quickchart('df-aa77ca0e-c8a6-4780-ad6b-5e3b6dddef0b')\"\n",
              "            title=\"Suggest charts\"\n",
              "            style=\"display:none;\">\n",
              "\n",
              "<svg xmlns=\"http://www.w3.org/2000/svg\" height=\"24px\"viewBox=\"0 0 24 24\"\n",
              "     width=\"24px\">\n",
              "    <g>\n",
              "        <path d=\"M19 3H5c-1.1 0-2 .9-2 2v14c0 1.1.9 2 2 2h14c1.1 0 2-.9 2-2V5c0-1.1-.9-2-2-2zM9 17H7v-7h2v7zm4 0h-2V7h2v10zm4 0h-2v-4h2v4z\"/>\n",
              "    </g>\n",
              "</svg>\n",
              "  </button>\n",
              "\n",
              "<style>\n",
              "  .colab-df-quickchart {\n",
              "      --bg-color: #E8F0FE;\n",
              "      --fill-color: #1967D2;\n",
              "      --hover-bg-color: #E2EBFA;\n",
              "      --hover-fill-color: #174EA6;\n",
              "      --disabled-fill-color: #AAA;\n",
              "      --disabled-bg-color: #DDD;\n",
              "  }\n",
              "\n",
              "  [theme=dark] .colab-df-quickchart {\n",
              "      --bg-color: #3B4455;\n",
              "      --fill-color: #D2E3FC;\n",
              "      --hover-bg-color: #434B5C;\n",
              "      --hover-fill-color: #FFFFFF;\n",
              "      --disabled-bg-color: #3B4455;\n",
              "      --disabled-fill-color: #666;\n",
              "  }\n",
              "\n",
              "  .colab-df-quickchart {\n",
              "    background-color: var(--bg-color);\n",
              "    border: none;\n",
              "    border-radius: 50%;\n",
              "    cursor: pointer;\n",
              "    display: none;\n",
              "    fill: var(--fill-color);\n",
              "    height: 32px;\n",
              "    padding: 0;\n",
              "    width: 32px;\n",
              "  }\n",
              "\n",
              "  .colab-df-quickchart:hover {\n",
              "    background-color: var(--hover-bg-color);\n",
              "    box-shadow: 0 1px 2px rgba(60, 64, 67, 0.3), 0 1px 3px 1px rgba(60, 64, 67, 0.15);\n",
              "    fill: var(--button-hover-fill-color);\n",
              "  }\n",
              "\n",
              "  .colab-df-quickchart-complete:disabled,\n",
              "  .colab-df-quickchart-complete:disabled:hover {\n",
              "    background-color: var(--disabled-bg-color);\n",
              "    fill: var(--disabled-fill-color);\n",
              "    box-shadow: none;\n",
              "  }\n",
              "\n",
              "  .colab-df-spinner {\n",
              "    border: 2px solid var(--fill-color);\n",
              "    border-color: transparent;\n",
              "    border-bottom-color: var(--fill-color);\n",
              "    animation:\n",
              "      spin 1s steps(1) infinite;\n",
              "  }\n",
              "\n",
              "  @keyframes spin {\n",
              "    0% {\n",
              "      border-color: transparent;\n",
              "      border-bottom-color: var(--fill-color);\n",
              "      border-left-color: var(--fill-color);\n",
              "    }\n",
              "    20% {\n",
              "      border-color: transparent;\n",
              "      border-left-color: var(--fill-color);\n",
              "      border-top-color: var(--fill-color);\n",
              "    }\n",
              "    30% {\n",
              "      border-color: transparent;\n",
              "      border-left-color: var(--fill-color);\n",
              "      border-top-color: var(--fill-color);\n",
              "      border-right-color: var(--fill-color);\n",
              "    }\n",
              "    40% {\n",
              "      border-color: transparent;\n",
              "      border-right-color: var(--fill-color);\n",
              "      border-top-color: var(--fill-color);\n",
              "    }\n",
              "    60% {\n",
              "      border-color: transparent;\n",
              "      border-right-color: var(--fill-color);\n",
              "    }\n",
              "    80% {\n",
              "      border-color: transparent;\n",
              "      border-right-color: var(--fill-color);\n",
              "      border-bottom-color: var(--fill-color);\n",
              "    }\n",
              "    90% {\n",
              "      border-color: transparent;\n",
              "      border-bottom-color: var(--fill-color);\n",
              "    }\n",
              "  }\n",
              "</style>\n",
              "\n",
              "  <script>\n",
              "    async function quickchart(key) {\n",
              "      const quickchartButtonEl =\n",
              "        document.querySelector('#' + key + ' button');\n",
              "      quickchartButtonEl.disabled = true;  // To prevent multiple clicks.\n",
              "      quickchartButtonEl.classList.add('colab-df-spinner');\n",
              "      try {\n",
              "        const charts = await google.colab.kernel.invokeFunction(\n",
              "            'suggestCharts', [key], {});\n",
              "      } catch (error) {\n",
              "        console.error('Error during call to suggestCharts:', error);\n",
              "      }\n",
              "      quickchartButtonEl.classList.remove('colab-df-spinner');\n",
              "      quickchartButtonEl.classList.add('colab-df-quickchart-complete');\n",
              "    }\n",
              "    (() => {\n",
              "      let quickchartButtonEl =\n",
              "        document.querySelector('#df-aa77ca0e-c8a6-4780-ad6b-5e3b6dddef0b button');\n",
              "      quickchartButtonEl.style.display =\n",
              "        google.colab.kernel.accessAllowed ? 'block' : 'none';\n",
              "    })();\n",
              "  </script>\n",
              "</div>\n",
              "\n",
              "    </div>\n",
              "  </div>\n"
            ],
            "application/vnd.google.colaboratory.intrinsic+json": {
              "type": "dataframe",
              "variable_name": "df",
              "summary": "{\n  \"name\": \"df\",\n  \"rows\": 880,\n  \"fields\": [\n    {\n      \"column\": \"Champion1_Blue\",\n      \"properties\": {\n        \"dtype\": \"category\",\n        \"num_unique_values\": 103,\n        \"samples\": [\n          \"MonkeyKing\",\n          \"Taliyah\",\n          \"Chogath\"\n        ],\n        \"semantic_type\": \"\",\n        \"description\": \"\"\n      }\n    },\n    {\n      \"column\": \"Champion2_Blue\",\n      \"properties\": {\n        \"dtype\": \"category\",\n        \"num_unique_values\": 82,\n        \"samples\": [\n          \"Zyra\",\n          \"Poppy\",\n          \"Ivern\"\n        ],\n        \"semantic_type\": \"\",\n        \"description\": \"\"\n      }\n    },\n    {\n      \"column\": \"Champion3_Blue\",\n      \"properties\": {\n        \"dtype\": \"category\",\n        \"num_unique_values\": 113,\n        \"samples\": [\n          \"Kaisa\",\n          \"Yasuo\",\n          \"Katarina\"\n        ],\n        \"semantic_type\": \"\",\n        \"description\": \"\"\n      }\n    },\n    {\n      \"column\": \"Champion4_Blue\",\n      \"properties\": {\n        \"dtype\": \"category\",\n        \"num_unique_values\": 70,\n        \"samples\": [\n          \"Rumble\",\n          \"Tristana\",\n          \"Neeko\"\n        ],\n        \"semantic_type\": \"\",\n        \"description\": \"\"\n      }\n    },\n    {\n      \"column\": \"Champion5_Blue\",\n      \"properties\": {\n        \"dtype\": \"category\",\n        \"num_unique_values\": 78,\n        \"samples\": [\n          \"Morgana\",\n          \"Pantheon\",\n          \"Annie\"\n        ],\n        \"semantic_type\": \"\",\n        \"description\": \"\"\n      }\n    },\n    {\n      \"column\": \"Champion1_Red\",\n      \"properties\": {\n        \"dtype\": \"category\",\n        \"num_unique_values\": 109,\n        \"samples\": [\n          \"Chogath\",\n          \"TwistedFate\",\n          \"Jayce\"\n        ],\n        \"semantic_type\": \"\",\n        \"description\": \"\"\n      }\n    },\n    {\n      \"column\": \"Champion2_Red\",\n      \"properties\": {\n        \"dtype\": \"category\",\n        \"num_unique_values\": 78,\n        \"samples\": [\n          \"Kayn\",\n          \"Brand\",\n          \"Volibear\"\n        ],\n        \"semantic_type\": \"\",\n        \"description\": \"\"\n      }\n    },\n    {\n      \"column\": \"Champion3_Red\",\n      \"properties\": {\n        \"dtype\": \"category\",\n        \"num_unique_values\": 101,\n        \"samples\": [\n          \"Sion\",\n          \"Kindred\",\n          \"Nidalee\"\n        ],\n        \"semantic_type\": \"\",\n        \"description\": \"\"\n      }\n    },\n    {\n      \"column\": \"Champion4_Red\",\n      \"properties\": {\n        \"dtype\": \"category\",\n        \"num_unique_values\": 68,\n        \"samples\": [\n          \"Morgana\",\n          \"Katarina\",\n          \"Seraphine\"\n        ],\n        \"semantic_type\": \"\",\n        \"description\": \"\"\n      }\n    },\n    {\n      \"column\": \"Champion5_Red\",\n      \"properties\": {\n        \"dtype\": \"category\",\n        \"num_unique_values\": 72,\n        \"samples\": [\n          \"Braum\",\n          \"Velkoz\",\n          \"Leona\"\n        ],\n        \"semantic_type\": \"\",\n        \"description\": \"\"\n      }\n    },\n    {\n      \"column\": \"Result\",\n      \"properties\": {\n        \"dtype\": \"category\",\n        \"num_unique_values\": 2,\n        \"samples\": [\n          \"Blue\",\n          \"Red\"\n        ],\n        \"semantic_type\": \"\",\n        \"description\": \"\"\n      }\n    }\n  ]\n}"
            }
          },
          "metadata": {},
          "execution_count": 12
        }
      ],
      "source": [
        "df = pd.read_csv('https://raw.githubusercontent.com/L3borim/LoL-Match-Prediction-Project-IA2024S1/main/partidas_data.csv')\n",
        "\n",
        "df.head()"
      ]
    },
    {
      "cell_type": "markdown",
      "source": [
        "## *Encoding* dos dados\n",
        "\n",
        "Aqui é realizado o label encode da coluna Result, que é a variável objetivo, para valores binários onde:\n",
        "* 0 = Red\n",
        "* 1 = Blue\n",
        "\n",
        "Além disso, também é utlizado o One-hot encoding para as variáveis categóricas, que no caso, são os campeões de ambos os times, onde em vez de usar valores inteiros para representar categorias (o que pode induzir a uma ordenação ou peso incorreto entre as categorias), o one-hot encoding cria colunas binárias para cada categoria."
      ],
      "metadata": {
        "id": "7YBlSFWiiT3o"
      }
    },
    {
      "cell_type": "code",
      "execution_count": null,
      "metadata": {
        "id": "F0A5l2_iC9hI"
      },
      "outputs": [],
      "source": [
        "label_encoder = LabelEncoder()\n",
        "df['Result'] = label_encoder.fit_transform(df['Result'])\n",
        "\n",
        "X = pd.get_dummies(df.drop('Result', axis=1))\n",
        "y = df['Result']"
      ]
    },
    {
      "cell_type": "markdown",
      "source": [
        "## Classificadores que vão ser utilizados"
      ],
      "metadata": {
        "id": "Eg4IeZVdjhxy"
      }
    },
    {
      "cell_type": "code",
      "execution_count": null,
      "metadata": {
        "id": "P6o-fTZnC9hI"
      },
      "outputs": [],
      "source": [
        "classificadores = [\n",
        "    DecisionTreeClassifier(random_state=42),\n",
        "    RandomForestClassifier(random_state=42),\n",
        "    AdaBoostClassifier(),\n",
        "    KNeighborsClassifier(),\n",
        "    ExtraTreesClassifier(random_state=42),\n",
        "    GaussianNB(),\n",
        "    SVC()\n",
        "]"
      ]
    },
    {
      "cell_type": "markdown",
      "source": [
        "## Treinamento e Classificação\n",
        "\n",
        "Nesta etapa é realizado o treinamento dos modelos e registro de seus resultados a fim de descobrir o modelo de classificação que atende maneira mais assertiva a predição da partida. Sendo assim, é feito:\n",
        "\n",
        "1. Criação do vetor, que futuramente será um dataframe, de resultados dos modelos;\n",
        "2. Separação dos dados de teste e treinamento\n",
        "3. Realização de um loop usado para trabalhar com cada modelo separadamente\n",
        "4. Pra cada classificador, é verificado qual foi a predição do modelo\n",
        "5. Logo após, é obtido algumas métricas de avaliação para as predições do modelo:\n",
        "  * Acurácia\n",
        "  * Recall\n",
        "  * Precisão\n",
        "  * F1 Score\n",
        "6. É exibido na saída o classification report pra cada modelo\n",
        "7. Por fim, todas as pontuções das métricas obtidas em seus respecitvos modelo são adicionadas ao vetor resultados"
      ],
      "metadata": {
        "id": "FGboNDxnkKCB"
      }
    },
    {
      "cell_type": "code",
      "execution_count": null,
      "metadata": {
        "colab": {
          "base_uri": "https://localhost:8080/"
        },
        "id": "BZETHUI5C9hJ",
        "outputId": "34561f09-f046-4114-bf1f-bf40cfcac57b"
      },
      "outputs": [
        {
          "output_type": "stream",
          "name": "stdout",
          "text": [
            "Report Classificador: DecisionTreeClassifier\n",
            "Classification Report:\n",
            "              precision    recall  f1-score   support\n",
            "\n",
            "           0       0.44      0.54      0.49        65\n",
            "           1       0.69      0.60      0.64       111\n",
            "\n",
            "    accuracy                           0.58       176\n",
            "   macro avg       0.57      0.57      0.57       176\n",
            "weighted avg       0.60      0.58      0.59       176\n",
            "\n",
            "\n",
            "\n",
            "Report Classificador: RandomForestClassifier\n",
            "Classification Report:\n",
            "              precision    recall  f1-score   support\n",
            "\n",
            "           0       0.62      0.46      0.53        65\n",
            "           1       0.73      0.84      0.78       111\n",
            "\n",
            "    accuracy                           0.70       176\n",
            "   macro avg       0.68      0.65      0.65       176\n",
            "weighted avg       0.69      0.70      0.69       176\n",
            "\n",
            "\n",
            "\n",
            "Report Classificador: AdaBoostClassifier\n",
            "Classification Report:\n",
            "              precision    recall  f1-score   support\n",
            "\n",
            "           0       0.43      0.69      0.53        65\n",
            "           1       0.72      0.47      0.57       111\n",
            "\n",
            "    accuracy                           0.55       176\n",
            "   macro avg       0.58      0.58      0.55       176\n",
            "weighted avg       0.62      0.55      0.56       176\n",
            "\n",
            "\n",
            "\n",
            "Report Classificador: KNeighborsClassifier\n",
            "Classification Report:\n",
            "              precision    recall  f1-score   support\n",
            "\n",
            "           0       0.49      0.54      0.51        65\n",
            "           1       0.71      0.68      0.69       111\n",
            "\n",
            "    accuracy                           0.62       176\n",
            "   macro avg       0.60      0.61      0.60       176\n",
            "weighted avg       0.63      0.62      0.63       176\n",
            "\n",
            "\n",
            "\n",
            "Report Classificador: ExtraTreesClassifier\n",
            "Classification Report:\n",
            "              precision    recall  f1-score   support\n",
            "\n",
            "           0       0.55      0.45      0.49        65\n",
            "           1       0.71      0.78      0.74       111\n",
            "\n",
            "    accuracy                           0.66       176\n",
            "   macro avg       0.63      0.61      0.62       176\n",
            "weighted avg       0.65      0.66      0.65       176\n",
            "\n",
            "\n",
            "\n",
            "Report Classificador: GaussianNB\n",
            "Classification Report:\n",
            "              precision    recall  f1-score   support\n",
            "\n",
            "           0       0.41      0.89      0.56        65\n",
            "           1       0.79      0.23      0.36       111\n",
            "\n",
            "    accuracy                           0.48       176\n",
            "   macro avg       0.60      0.56      0.46       176\n",
            "weighted avg       0.65      0.48      0.43       176\n",
            "\n",
            "\n",
            "\n",
            "Report Classificador: SVC\n",
            "Classification Report:\n",
            "              precision    recall  f1-score   support\n",
            "\n",
            "           0       0.69      0.28      0.40        65\n",
            "           1       0.69      0.93      0.79       111\n",
            "\n",
            "    accuracy                           0.69       176\n",
            "   macro avg       0.69      0.60      0.59       176\n",
            "weighted avg       0.69      0.69      0.64       176\n",
            "\n",
            "\n",
            "\n"
          ]
        }
      ],
      "source": [
        "resultados = []\n",
        "\n",
        "X_train, X_test, y_train, y_test = train_test_split(X, y, test_size=0.2, random_state=42)\n",
        "\n",
        "\n",
        "for classificador in classificadores:\n",
        "\n",
        "    pipeline = Pipeline([\n",
        "        ('classifier', classificador)\n",
        "    ])\n",
        "\n",
        "    pipeline.fit(X_train, y_train)\n",
        "    y_pred = pipeline.predict(X_test)\n",
        "\n",
        "    accuracy = accuracy_score(y_test, y_pred)\n",
        "    recall = recall_score(y_test, y_pred, average='weighted')\n",
        "    precision = precision_score(y_test, y_pred, average='weighted', zero_division=1)\n",
        "    f1 = f1_score(y_test, y_pred, average='weighted')\n",
        "\n",
        "    report = classification_report(y_test, y_pred)\n",
        "    print(f'Report Classificador: {classificador.__class__.__name__}')\n",
        "    print('Classification Report:')\n",
        "    print(report)\n",
        "    print('\\n')\n",
        "\n",
        "    resultados.append((classificador.__class__.__name__, accuracy, recall, precision, f1))"
      ]
    },
    {
      "cell_type": "markdown",
      "source": [
        "##"
      ],
      "metadata": {
        "id": "Nt7j-L81wvHO"
      }
    },
    {
      "cell_type": "markdown",
      "source": [
        "## Resultados\n",
        "\n",
        "Nesta etapa é produzido uma tabela que lista os resultados dos modelos para cada métrica, gerando o gráfico a seguir, possibilitando identificar o modelo mais adequado a ser utilzado na predição."
      ],
      "metadata": {
        "id": "Jg8v1Wqtx3L_"
      }
    },
    {
      "cell_type": "code",
      "execution_count": null,
      "metadata": {
        "colab": {
          "base_uri": "https://localhost:8080/",
          "height": 958
        },
        "id": "7g6ikw_cC9hJ",
        "outputId": "9542ef20-c18c-4883-b574-9d99f9ed3b6f"
      },
      "outputs": [
        {
          "output_type": "stream",
          "name": "stdout",
          "text": [
            "            Classificador  Acurácia    Recall  Precisão  F1-Score\n",
            "1  RandomForestClassifier  0.698864  0.698864  0.689054  0.686922\n",
            "6                     SVC  0.687500  0.687500  0.688750  0.643883\n",
            "4    ExtraTreesClassifier  0.659091  0.659091  0.648172  0.650498\n",
            "3    KNeighborsClassifier  0.625000  0.625000  0.632545  0.628064\n",
            "0  DecisionTreeClassifier  0.579545  0.579545  0.599248  0.585834\n",
            "2      AdaBoostClassifier  0.551136  0.551136  0.615294  0.555099\n",
            "5              GaussianNB  0.477273  0.477273  0.646694  0.433712\n"
          ]
        },
        {
          "output_type": "stream",
          "name": "stderr",
          "text": [
            "<ipython-input-16-a65a2c886ff6>:6: FutureWarning: \n",
            "\n",
            "Passing `palette` without assigning `hue` is deprecated and will be removed in v0.14.0. Assign the `y` variable to `hue` and set `legend=False` for the same effect.\n",
            "\n",
            "  sns.barplot(x='Acurácia', y='Classificador', data=resultados_df, palette='viridis')\n"
          ]
        },
        {
          "output_type": "display_data",
          "data": {
            "text/plain": [
              "<Figure size 1200x800 with 1 Axes>"
            ],
            "image/png": "[encoded data removed]"
          },
          "metadata": {}
        }
      ],
      "source": [
        "\n",
        "resultados_df = pd.DataFrame(resultados, columns=['Classificador', 'Acurácia', 'Recall', 'Precisão', 'F1-Score'])\n",
        "resultados_df = resultados_df.sort_values(by='Acurácia', ascending=False)\n",
        "print(resultados_df.head(7))\n",
        "\n",
        "plt.figure(figsize=(12, 8))\n",
        "sns.barplot(x='Acurácia', y='Classificador', data=resultados_df, palette='viridis')\n",
        "for index, value in enumerate(resultados_df['Acurácia']):\n",
        "    plt.text(value, index, f'{value:.2f}')\n",
        "plt.title('Desempenho dos Classificadores')\n",
        "plt.xlabel('Acurácia')\n",
        "plt.ylabel('Classificador')\n",
        "\n",
        "plt.show()"
      ]
    },
    {
      "cell_type": "markdown",
      "metadata": {
        "id": "vuisqDoJ0oTB"
      },
      "source": [
        "# **Uma ideia de Projeto de Aplicação**\n",
        "\n",
        "\n",
        "Apresente aqui uma ideia de projeto original em que a tecnologia/conceito explorada poderia ser empregada. Busque apresentar um problema relevante e atual. Você não precisa implementar mas, se quiser, pode empregar o Exemplo de Aplicação anterior para isso! Neste caso basta fazer um protótipo ou uma prova de conceito. Empregue aqui no máximo 1 página\n",
        "\n",
        "A partir do treinamento e aprendizado supervisionado é possível aplicar uma previsão da partida, onde utilizando uma base de dados mais robusta e específíca dentro de um contexto de times profissionais de League of Legends, essa previsão pode funcionar como um insumo para times na montagem de composições de campeões que tem a maior chance de se obter uma vitória, ou até mesmo para identificar os campeões que são mais fortes na sua função.\n",
        "\n",
        "Portanto, o exemplo abaixo demonstra como funcionaria a previsão e os dados que podem ser obtidos a partir dela, usando apenas os campeões como base de dados.\n"
      ]
    },
    {
      "cell_type": "markdown",
      "source": [
        "## Criação da nova partida a ser prevista pelo modelo\n",
        "\n",
        "Criação da tabela da novas partida de exemplo, gerada aleatórimente, com o conjunto dos times e seus respectivos campeões."
      ],
      "metadata": {
        "id": "YcaRfOBc3N6A"
      }
    },
    {
      "cell_type": "code",
      "execution_count": null,
      "metadata": {
        "id": "-6wa07A_C9hJ"
      },
      "outputs": [],
      "source": [
        "\n",
        "new_match = {\n",
        "    'Champion1_Blue': 'Camille',\n",
        "    'Champion2_Blue': 'Sejuani',\n",
        "    'Champion3_Blue': 'Xerath',\n",
        "    'Champion4_Blue': 'Jhin',\n",
        "    'Champion5_Blue': 'Sona',\n",
        "    'Champion1_Red': 'Urgot',\n",
        "    'Champion2_Red': 'Lillia',\n",
        "    'Champion3_Red': 'Lux',\n",
        "    'Champion4_Red': 'Samira',\n",
        "    'Champion5_Red': 'Senna'\n",
        "}\n",
        "\n",
        "new_match_df = pd.DataFrame([new_match])"
      ]
    },
    {
      "cell_type": "markdown",
      "source": [
        "## Combinando os novos dados com os originais\n",
        "\n",
        "Combinação do novo conjunto de dados com os dados orginais juntamente do encoding para garantir que todas os dados estejam no mesmo formato.\n",
        "\n",
        "Além disso, já que está é uma predição, é definida uma variável `X_new` que corresponde as colunas do novo conjunto de dados apenas."
      ],
      "metadata": {
        "id": "d9uZsJNE6g7c"
      }
    },
    {
      "cell_type": "code",
      "execution_count": null,
      "metadata": {
        "id": "Cg2dfbjsC9hJ"
      },
      "outputs": [],
      "source": [
        "combined_df = pd.concat([df.drop('Result', axis=1), new_match_df], axis=0)\n",
        "\n",
        "combined_df_encoded = pd.get_dummies(combined_df)\n",
        "\n",
        "X_new = combined_df_encoded.tail(1)"
      ]
    },
    {
      "cell_type": "markdown",
      "source": [
        "## Resultado da Previsão\n",
        "\n",
        "Uma vez que já se sabe qual modelo possui a melhor acurácia, é possível aplicar ele para o novo conjunto de dados para a previsão."
      ],
      "metadata": {
        "id": "WeofA_Hu76Mp"
      }
    },
    {
      "cell_type": "code",
      "execution_count": null,
      "metadata": {
        "colab": {
          "base_uri": "https://localhost:8080/"
        },
        "id": "baObBp3YC9hJ",
        "outputId": "91389084-0e2b-4d9e-b279-cdd4f8c9a2da"
      },
      "outputs": [
        {
          "output_type": "stream",
          "name": "stdout",
          "text": [
            "Prediction for the new match: Red\n"
          ]
        }
      ],
      "source": [
        "\n",
        "model = RandomForestClassifier(random_state=42)\n",
        "model.fit(X_train, y_train)\n",
        "\n",
        "# Fazer a previsão\n",
        "prediction = model.predict(X_new)\n",
        "\n",
        "result = label_encoder.inverse_transform(prediction)\n",
        "\n",
        "print(f'Prediction for the new match: {result[0]}')\n"
      ]
    },
    {
      "cell_type": "markdown",
      "metadata": {
        "id": "9p28YOl-oUK8"
      },
      "source": [
        "# **Conclusão**\n",
        "\n",
        "Com o nosso projeto foi possível perceber como a análise de dados e o aprendizado de máquina podem ser aplicados para resolver problemas reais, bem como fornecer insights valiosos para jogadores e equipes profissionais no cenário de e-sports (nesse caso tendo como referência o cenário do LOL competitivo). Por meio dos dados dispobibilizados pela API da Riot Games, obtendo dados de 805 partidas do ranking mais alto do jogo, foi possível criar um modelo de acuracidade considerável para prever o vencedor de partidas de League of Legends. Contudo, para obter avanços relacionados a precisão do modelo, é possível adotar um número maior do conjunto de treinamento, sem deixar de considerar tal variável para o modelo em questão. Vale ressaltar que as respostas das previsões de vitória podem ser aprimoradas até determinado ponto, não havendo possibilidade de acerto em praticamente todos os confrontos, levando em conta variáveis não manipuláveis (como habilidade de jogador para jogador).\n",
        "\n"
      ]
    },
    {
      "cell_type": "markdown",
      "metadata": {
        "id": "A07f-tV8oUK8"
      },
      "source": [
        "# **Vídeo e GitHub**\n",
        "\n",
        "[Link do Github do Projeto](https://github.com/L3borim/LoL-Match-Prediction-Project-IA2024S1)"
      ]
    },
    {
      "cell_type": "code",
      "execution_count": null,
      "metadata": {
        "colab": {
          "base_uri": "https://localhost:8080/",
          "height": 322
        },
        "outputId": "83972f78-ae2a-40db-e251-cb52882134ce",
        "id": "S7sV6rHPoUK9"
      },
      "outputs": [
        {
          "output_type": "execute_result",
          "data": {
            "text/plain": [
              "<IPython.lib.display.YouTubeVideo at 0x7d794d2b0130>"
            ],
            "text/html": [
              "\n",
              "        <iframe\n",
              "            width=\"400\"\n",
              "            height=\"300\"\n",
              "            src=\"https://www.youtube.com/embed/1YI2uhDJEdg\"\n",
              "            frameborder=\"0\"\n",
              "            allowfullscreen\n",
              "            \n",
              "        ></iframe>\n",
              "        "
            ],
            "image/jpeg": "[encoded data removed]"
          },
          "metadata": {},
          "execution_count": 20
        }
      ],
      "source": [
        "from IPython.display import YouTubeVideo\n",
        "YouTubeVideo('1YI2uhDJEdg')"
      ]
    },
    {
      "cell_type": "markdown",
      "metadata": {
        "id": "mDBc2zg2oUK9"
      },
      "source": [
        "---"
      ]
    },
    {
      "cell_type": "markdown",
      "source": [
        "# Referências:\n",
        "\n",
        "Riot Games. Documentação das APIs. Disponível em: <https://developer.riotgames.com/apis>. Acesso em:28 maio 2024.\n",
        "\n",
        "League of legends overview. Disponível em: https://na.leagueoflegends.com/en/. Acesso em:28 maio 2024.\n",
        "\n",
        "Cláudio, João. O Algoritmo Naive Bayes: Descrição e Implementação em Python. Medium, [s.d.]. Disponível em: <https://joaoclaudionc.medium.com/o-algoritmo-naive-bayes-descrição-e-implementação-em-python-35757ade6b36>. Acesso em: 26 maio 2024\n",
        "\n",
        "Brains.dev. Extra Trees: Árvores Extremamente Aleatórias. [S.l.: s.n.], 2023. Disponível em: <https://brains.dev/2023/extra-trees-arvores-extremamente-aleatorias/>. Acesso em: 28 maio 2024.\n",
        "\n",
        "\n",
        "Didática Tech. O que é e como funciona o algoritmo RandomForest. [S.l.: s.n.], [s.d.]. Disponível em: <https://didatica.tech/o-que-e-e-como-funciona-o-algoritmo-randomforest/>. Acesso em: 27 maio 2024.\n",
        "\n",
        "\n",
        "De Oliveira, Rogerio. \"Material de Aula\". [NotebooksColab]. Universidade Presbiteriana Mackenzie.\n",
        "\n",
        "Canal do YouTube. \"Modelo AdaBoost - Teoria - Prof. Danilo Morales \". [Vídeo]. EstaTiDados, Ano. Disponível em: <https://www.youtube.com/watch?v=tP8Z18GRXYQ>. Acesso em: 25 maio 2024.\n",
        "\n",
        "PythonProgramming.net. Linear SVC Example - scikit-learn SVM - Python. [Tutorial]. Disponível em: <https://pythonprogramming.net/linear-svc-example-scikit-learn-svm-python/>. Acesso em: 29 maio 2024\n",
        "\n",
        "\n",
        "\n",
        "\n",
        "\n"
      ],
      "metadata": {
        "id": "k2OH0wVmo_Jj"
      }
    },
    {
      "cell_type": "code",
      "execution_count": null,
      "metadata": {
        "cellView": "form",
        "id": "2fxrmU5AoUK9"
      },
      "outputs": [],
      "source": [
        "#@title **Avaliação**\n",
        "Referencial_Teorico = 10 #@param {type:\"slider\", min:0, max:10, step:1}\n",
        "\n",
        "Conceitos_Chave = 9 #@param {type:\"slider\", min:0, max:10, step:1}\n",
        "\n",
        "Exemplo_Aplicacao = 6 #@param {type:\"slider\", min:0, max:10, step:1}\n",
        "\n",
        "Ideia_Projeto = 7 #@param {type:\"slider\", min:0, max:10, step:1}\n",
        "\n",
        "Conclusao = 7 #@param {type:\"slider\", min:0, max:10, step:1}\n",
        "\n",
        "\n",
        "\n",
        "\n",
        "\n",
        "\n"
      ]
    },
    {
      "cell_type": "code",
      "execution_count": null,
      "metadata": {
        "cellView": "form",
        "colab": {
          "base_uri": "https://localhost:8080/",
          "height": 212
        },
        "outputId": "92679642-bfa0-445c-a1c9-72a754ecdbc3",
        "id": "vK6pP5LFoUK9"
      },
      "outputs": [
        {
          "output_type": "stream",
          "name": "stdout",
          "text": [
            "Nota final do trabalho 7.4\n",
            "\n"
          ]
        },
        {
          "output_type": "display_data",
          "data": {
            "text/plain": [
              "        tia                         nome  nota\n",
              "0  10375711   GABRIEL MARQUES G. ALMEIDA   7.4\n",
              "1  10390123         LEONARDO BORIM SILVA   7.4\n",
              "2  10390316                  MATEUS YOON   7.4\n",
              "3  10390484                  SAMY IDESIS   7.4"
            ],
            "text/html": [
              "\n",
              "  <div id=\"df-bcbd411a-2013-4c54-81f0-12e16efdec06\" class=\"colab-df-container\">\n",
              "    <div>\n",
              "<style scoped>\n",
              "    .dataframe tbody tr th:only-of-type {\n",
              "        vertical-align: middle;\n",
              "    }\n",
              "\n",
              "    .dataframe tbody tr th {\n",
              "        vertical-align: top;\n",
              "    }\n",
              "\n",
              "    .dataframe thead th {\n",
              "        text-align: right;\n",
              "    }\n",
              "</style>\n",
              "<table border=\"1\" class=\"dataframe\">\n",
              "  <thead>\n",
              "    <tr style=\"text-align: right;\">\n",
              "      <th></th>\n",
              "      <th>tia</th>\n",
              "      <th>nome</th>\n",
              "      <th>nota</th>\n",
              "    </tr>\n",
              "  </thead>\n",
              "  <tbody>\n",
              "    <tr>\n",
              "      <th>0</th>\n",
              "      <td>10375711</td>\n",
              "      <td>GABRIEL MARQUES G. ALMEIDA</td>\n",
              "      <td>7.4</td>\n",
              "    </tr>\n",
              "    <tr>\n",
              "      <th>1</th>\n",
              "      <td>10390123</td>\n",
              "      <td>LEONARDO BORIM SILVA</td>\n",
              "      <td>7.4</td>\n",
              "    </tr>\n",
              "    <tr>\n",
              "      <th>2</th>\n",
              "      <td>10390316</td>\n",
              "      <td>MATEUS YOON</td>\n",
              "      <td>7.4</td>\n",
              "    </tr>\n",
              "    <tr>\n",
              "      <th>3</th>\n",
              "      <td>10390484</td>\n",
              "      <td>SAMY IDESIS</td>\n",
              "      <td>7.4</td>\n",
              "    </tr>\n",
              "  </tbody>\n",
              "</table>\n",
              "</div>\n",
              "    <div class=\"colab-df-buttons\">\n",
              "\n",
              "  <div class=\"colab-df-container\">\n",
              "    <button class=\"colab-df-convert\" onclick=\"convertToInteractive('df-bcbd411a-2013-4c54-81f0-12e16efdec06')\"\n",
              "            title=\"Convert this dataframe to an interactive table.\"\n",
              "            style=\"display:none;\">\n",
              "\n",
              "  <svg xmlns=\"http://www.w3.org/2000/svg\" height=\"24px\" viewBox=\"0 -960 960 960\">\n",
              "    <path d=\"M120-120v-720h720v720H120Zm60-500h600v-160H180v160Zm220 220h160v-160H400v160Zm0 220h160v-160H400v160ZM180-400h160v-160H180v160Zm440 0h160v-160H620v160ZM180-180h160v-160H180v160Zm440 0h160v-160H620v160Z\"/>\n",
              "  </svg>\n",
              "    </button>\n",
              "\n",
              "  <style>\n",
              "    .colab-df-container {\n",
              "      display:flex;\n",
              "      gap: 12px;\n",
              "    }\n",
              "\n",
              "    .colab-df-convert {\n",
              "      background-color: #E8F0FE;\n",
              "      border: none;\n",
              "      border-radius: 50%;\n",
              "      cursor: pointer;\n",
              "      display: none;\n",
              "      fill: #1967D2;\n",
              "      height: 32px;\n",
              "      padding: 0 0 0 0;\n",
              "      width: 32px;\n",
              "    }\n",
              "\n",
              "    .colab-df-convert:hover {\n",
              "      background-color: #E2EBFA;\n",
              "      box-shadow: 0px 1px 2px rgba(60, 64, 67, 0.3), 0px 1px 3px 1px rgba(60, 64, 67, 0.15);\n",
              "      fill: #174EA6;\n",
              "    }\n",
              "\n",
              "    .colab-df-buttons div {\n",
              "      margin-bottom: 4px;\n",
              "    }\n",
              "\n",
              "    [theme=dark] .colab-df-convert {\n",
              "      background-color: #3B4455;\n",
              "      fill: #D2E3FC;\n",
              "    }\n",
              "\n",
              "    [theme=dark] .colab-df-convert:hover {\n",
              "      background-color: #434B5C;\n",
              "      box-shadow: 0px 1px 3px 1px rgba(0, 0, 0, 0.15);\n",
              "      filter: drop-shadow(0px 1px 2px rgba(0, 0, 0, 0.3));\n",
              "      fill: #FFFFFF;\n",
              "    }\n",
              "  </style>\n",
              "\n",
              "    <script>\n",
              "      const buttonEl =\n",
              "        document.querySelector('#df-bcbd411a-2013-4c54-81f0-12e16efdec06 button.colab-df-convert');\n",
              "      buttonEl.style.display =\n",
              "        google.colab.kernel.accessAllowed ? 'block' : 'none';\n",
              "\n",
              "      async function convertToInteractive(key) {\n",
              "        const element = document.querySelector('#df-bcbd411a-2013-4c54-81f0-12e16efdec06');\n",
              "        const dataTable =\n",
              "          await google.colab.kernel.invokeFunction('convertToInteractive',\n",
              "                                                    [key], {});\n",
              "        if (!dataTable) return;\n",
              "\n",
              "        const docLinkHtml = 'Like what you see? Visit the ' +\n",
              "          '<a target=\"_blank\" href=https://colab.research.google.com/notebooks/data_table.ipynb>data table notebook</a>'\n",
              "          + ' to learn more about interactive tables.';\n",
              "        element.innerHTML = '';\n",
              "        dataTable['output_type'] = 'display_data';\n",
              "        await google.colab.output.renderOutput(dataTable, element);\n",
              "        const docLink = document.createElement('div');\n",
              "        docLink.innerHTML = docLinkHtml;\n",
              "        element.appendChild(docLink);\n",
              "      }\n",
              "    </script>\n",
              "  </div>\n",
              "\n",
              "\n",
              "<div id=\"df-14443882-795b-4427-8aac-1b17e96535b6\">\n",
              "  <button class=\"colab-df-quickchart\" onclick=\"quickchart('df-14443882-795b-4427-8aac-1b17e96535b6')\"\n",
              "            title=\"Suggest charts\"\n",
              "            style=\"display:none;\">\n",
              "\n",
              "<svg xmlns=\"http://www.w3.org/2000/svg\" height=\"24px\"viewBox=\"0 0 24 24\"\n",
              "     width=\"24px\">\n",
              "    <g>\n",
              "        <path d=\"M19 3H5c-1.1 0-2 .9-2 2v14c0 1.1.9 2 2 2h14c1.1 0 2-.9 2-2V5c0-1.1-.9-2-2-2zM9 17H7v-7h2v7zm4 0h-2V7h2v10zm4 0h-2v-4h2v4z\"/>\n",
              "    </g>\n",
              "</svg>\n",
              "  </button>\n",
              "\n",
              "<style>\n",
              "  .colab-df-quickchart {\n",
              "      --bg-color: #E8F0FE;\n",
              "      --fill-color: #1967D2;\n",
              "      --hover-bg-color: #E2EBFA;\n",
              "      --hover-fill-color: #174EA6;\n",
              "      --disabled-fill-color: #AAA;\n",
              "      --disabled-bg-color: #DDD;\n",
              "  }\n",
              "\n",
              "  [theme=dark] .colab-df-quickchart {\n",
              "      --bg-color: #3B4455;\n",
              "      --fill-color: #D2E3FC;\n",
              "      --hover-bg-color: #434B5C;\n",
              "      --hover-fill-color: #FFFFFF;\n",
              "      --disabled-bg-color: #3B4455;\n",
              "      --disabled-fill-color: #666;\n",
              "  }\n",
              "\n",
              "  .colab-df-quickchart {\n",
              "    background-color: var(--bg-color);\n",
              "    border: none;\n",
              "    border-radius: 50%;\n",
              "    cursor: pointer;\n",
              "    display: none;\n",
              "    fill: var(--fill-color);\n",
              "    height: 32px;\n",
              "    padding: 0;\n",
              "    width: 32px;\n",
              "  }\n",
              "\n",
              "  .colab-df-quickchart:hover {\n",
              "    background-color: var(--hover-bg-color);\n",
              "    box-shadow: 0 1px 2px rgba(60, 64, 67, 0.3), 0 1px 3px 1px rgba(60, 64, 67, 0.15);\n",
              "    fill: var(--button-hover-fill-color);\n",
              "  }\n",
              "\n",
              "  .colab-df-quickchart-complete:disabled,\n",
              "  .colab-df-quickchart-complete:disabled:hover {\n",
              "    background-color: var(--disabled-bg-color);\n",
              "    fill: var(--disabled-fill-color);\n",
              "    box-shadow: none;\n",
              "  }\n",
              "\n",
              "  .colab-df-spinner {\n",
              "    border: 2px solid var(--fill-color);\n",
              "    border-color: transparent;\n",
              "    border-bottom-color: var(--fill-color);\n",
              "    animation:\n",
              "      spin 1s steps(1) infinite;\n",
              "  }\n",
              "\n",
              "  @keyframes spin {\n",
              "    0% {\n",
              "      border-color: transparent;\n",
              "      border-bottom-color: var(--fill-color);\n",
              "      border-left-color: var(--fill-color);\n",
              "    }\n",
              "    20% {\n",
              "      border-color: transparent;\n",
              "      border-left-color: var(--fill-color);\n",
              "      border-top-color: var(--fill-color);\n",
              "    }\n",
              "    30% {\n",
              "      border-color: transparent;\n",
              "      border-left-color: var(--fill-color);\n",
              "      border-top-color: var(--fill-color);\n",
              "      border-right-color: var(--fill-color);\n",
              "    }\n",
              "    40% {\n",
              "      border-color: transparent;\n",
              "      border-right-color: var(--fill-color);\n",
              "      border-top-color: var(--fill-color);\n",
              "    }\n",
              "    60% {\n",
              "      border-color: transparent;\n",
              "      border-right-color: var(--fill-color);\n",
              "    }\n",
              "    80% {\n",
              "      border-color: transparent;\n",
              "      border-right-color: var(--fill-color);\n",
              "      border-bottom-color: var(--fill-color);\n",
              "    }\n",
              "    90% {\n",
              "      border-color: transparent;\n",
              "      border-bottom-color: var(--fill-color);\n",
              "    }\n",
              "  }\n",
              "</style>\n",
              "\n",
              "  <script>\n",
              "    async function quickchart(key) {\n",
              "      const quickchartButtonEl =\n",
              "        document.querySelector('#' + key + ' button');\n",
              "      quickchartButtonEl.disabled = true;  // To prevent multiple clicks.\n",
              "      quickchartButtonEl.classList.add('colab-df-spinner');\n",
              "      try {\n",
              "        const charts = await google.colab.kernel.invokeFunction(\n",
              "            'suggestCharts', [key], {});\n",
              "      } catch (error) {\n",
              "        console.error('Error during call to suggestCharts:', error);\n",
              "      }\n",
              "      quickchartButtonEl.classList.remove('colab-df-spinner');\n",
              "      quickchartButtonEl.classList.add('colab-df-quickchart-complete');\n",
              "    }\n",
              "    (() => {\n",
              "      let quickchartButtonEl =\n",
              "        document.querySelector('#df-14443882-795b-4427-8aac-1b17e96535b6 button');\n",
              "      quickchartButtonEl.style.display =\n",
              "        google.colab.kernel.accessAllowed ? 'block' : 'none';\n",
              "    })();\n",
              "  </script>\n",
              "</div>\n",
              "\n",
              "  <div id=\"id_9efa3e03-57e2-42b4-9606-4e8b87029670\">\n",
              "    <style>\n",
              "      .colab-df-generate {\n",
              "        background-color: #E8F0FE;\n",
              "        border: none;\n",
              "        border-radius: 50%;\n",
              "        cursor: pointer;\n",
              "        display: none;\n",
              "        fill: #1967D2;\n",
              "        height: 32px;\n",
              "        padding: 0 0 0 0;\n",
              "        width: 32px;\n",
              "      }\n",
              "\n",
              "      .colab-df-generate:hover {\n",
              "        background-color: #E2EBFA;\n",
              "        box-shadow: 0px 1px 2px rgba(60, 64, 67, 0.3), 0px 1px 3px 1px rgba(60, 64, 67, 0.15);\n",
              "        fill: #174EA6;\n",
              "      }\n",
              "\n",
              "      [theme=dark] .colab-df-generate {\n",
              "        background-color: #3B4455;\n",
              "        fill: #D2E3FC;\n",
              "      }\n",
              "\n",
              "      [theme=dark] .colab-df-generate:hover {\n",
              "        background-color: #434B5C;\n",
              "        box-shadow: 0px 1px 3px 1px rgba(0, 0, 0, 0.15);\n",
              "        filter: drop-shadow(0px 1px 2px rgba(0, 0, 0, 0.3));\n",
              "        fill: #FFFFFF;\n",
              "      }\n",
              "    </style>\n",
              "    <button class=\"colab-df-generate\" onclick=\"generateWithVariable('alunos')\"\n",
              "            title=\"Generate code using this dataframe.\"\n",
              "            style=\"display:none;\">\n",
              "\n",
              "  <svg xmlns=\"http://www.w3.org/2000/svg\" height=\"24px\"viewBox=\"0 0 24 24\"\n",
              "       width=\"24px\">\n",
              "    <path d=\"M7,19H8.4L18.45,9,17,7.55,7,17.6ZM5,21V16.75L18.45,3.32a2,2,0,0,1,2.83,0l1.4,1.43a1.91,1.91,0,0,1,.58,1.4,1.91,1.91,0,0,1-.58,1.4L9.25,21ZM18.45,9,17,7.55Zm-12,3A5.31,5.31,0,0,0,4.9,8.1,5.31,5.31,0,0,0,1,6.5,5.31,5.31,0,0,0,4.9,4.9,5.31,5.31,0,0,0,6.5,1,5.31,5.31,0,0,0,8.1,4.9,5.31,5.31,0,0,0,12,6.5,5.46,5.46,0,0,0,6.5,12Z\"/>\n",
              "  </svg>\n",
              "    </button>\n",
              "    <script>\n",
              "      (() => {\n",
              "      const buttonEl =\n",
              "        document.querySelector('#id_9efa3e03-57e2-42b4-9606-4e8b87029670 button.colab-df-generate');\n",
              "      buttonEl.style.display =\n",
              "        google.colab.kernel.accessAllowed ? 'block' : 'none';\n",
              "\n",
              "      buttonEl.onclick = () => {\n",
              "        google.colab.notebook.generateWithVariable('alunos');\n",
              "      }\n",
              "      })();\n",
              "    </script>\n",
              "  </div>\n",
              "\n",
              "    </div>\n",
              "  </div>\n"
            ],
            "application/vnd.google.colaboratory.intrinsic+json": {
              "type": "dataframe",
              "variable_name": "alunos",
              "summary": "{\n  \"name\": \"alunos\",\n  \"rows\": 4,\n  \"fields\": [\n    {\n      \"column\": \"tia\",\n      \"properties\": {\n        \"dtype\": \"string\",\n        \"num_unique_values\": 4,\n        \"samples\": [\n          \"10390123\",\n          \"10390484\",\n          \"10375711\"\n        ],\n        \"semantic_type\": \"\",\n        \"description\": \"\"\n      }\n    },\n    {\n      \"column\": \"nome\",\n      \"properties\": {\n        \"dtype\": \"string\",\n        \"num_unique_values\": 4,\n        \"samples\": [\n          \" LEONARDO BORIM SILVA\",\n          \" SAMY IDESIS\",\n          \" GABRIEL MARQUES G. ALMEIDA\"\n        ],\n        \"semantic_type\": \"\",\n        \"description\": \"\"\n      }\n    },\n    {\n      \"column\": \"nota\",\n      \"properties\": {\n        \"dtype\": \"number\",\n        \"std\": 0.0,\n        \"min\": 7.4,\n        \"max\": 7.4,\n        \"num_unique_values\": 1,\n        \"samples\": [\n          7.4\n        ],\n        \"semantic_type\": \"\",\n        \"description\": \"\"\n      }\n    }\n  ]\n}"
            }
          },
          "metadata": {}
        }
      ],
      "source": [
        "#@title **Nota Final**\n",
        "nota = Referencial_Teorico + Conceitos_Chave + 2*Exemplo_Aplicacao + 2*Ideia_Projeto + Conclusao\n",
        "\n",
        "nota = nota / 7\n",
        "\n",
        "print(f'Nota final do trabalho {nota :.1f}')\n",
        "\n",
        "import numpy as np\n",
        "import pandas as pd\n",
        "\n",
        "alunos = pd.DataFrame()\n",
        "\n",
        "lista_tia = []\n",
        "lista_nome = []\n",
        "\n",
        "for i in range(1,6):\n",
        "  exec(\"if Aluno\" + str(i) + \" !='None':  lista = Aluno\" + str(i) + \".split(','); lista_tia.append(lista[0]); lista_nome.append(lista[1].upper())\")\n",
        "\n",
        "alunos['tia'] = lista_tia\n",
        "alunos['nome'] = lista_nome\n",
        "alunos['nota'] = np.round(nota,1)\n",
        "print()\n",
        "display(alunos)"
      ]
    }
  ],
  "metadata": {
    "colab": {
      "provenance": [],
      "include_colab_link": true
    },
    "kernelspec": {
      "display_name": "Python 3",
      "language": "python",
      "name": "python3"
    },
    "language_info": {
      "codemirror_mode": {
        "name": "ipython",
        "version": 3
      },
      "file_extension": ".py",
      "mimetype": "text/x-python",
      "name": "python",
      "nbconvert_exporter": "python",
      "pygments_lexer": "ipython3",
      "version": "3.11.2"
    }
  },
  "nbformat": 4,
  "nbformat_minor": 0
}