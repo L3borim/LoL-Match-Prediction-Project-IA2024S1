{
  "cells": [
    {
      "cell_type": "markdown",
      "metadata": {
        "id": "40b90843"
      },
      "source": [
        "<img src=\"http://meusite.mackenzie.br/rogerio/mackenzie_logo/UPM.2_horizontal_vermelho.jpg\"  width=300, align=\"right\">\n",
        "<br>\n",
        "<br>\n",
        "<br>\n",
        "<br>\n",
        "<br>\n",
        "\n",
        "# ***Predição de Melhor Composição de Campeões do League of Legends***\n",
        "---"
      ]
    },
    {
      "cell_type": "markdown",
      "metadata": {
        "id": "Ikv-pBzr9bNu"
      },
      "source": [
        "*Siga esse template para entrega do seu artigo/projeto. O código deste notebook precisa ser 100% executável* não podendo, assim, fazer referência a arquivos locais ou privados.\n",
        "\n",
        "Neste projeto você deve **explorar algumas tecnologias que são o estado da arte da IA e do Aprendizado de Máquina (modelos largos de linguagem - APIs ChatGPT, Gemini, Meta Llama -, modelos neurais profundos - TensorFlow, PyTorch -, aprendizado com imagem, som ou vídeo - OpenCV, OpenPose, Yolo -, modelos pré-treinados - transfer learning -, ou aplicação de modelos em casos reais)**. Em geral são temas que não tratamos em sala, seja pelo tempo, seja pela necessidade de focarmos nos fundamentos. O grupo pode optar por dar continuidade à proposta que apresentou no 1o bimestre, levando em consideração os comentários do professor, ou escolher um outro tema dentro dos mesma premissa explorar novos modelos.\n",
        "\n",
        "Vocês devem produzir um *artigo*, a exemplo de artigos do *Medium* (\\*) ou outros canais semelhantes, para que seu grupo, colegas e leitores do trabalho tenham aqui um ponto de partida para uso da tecnologia/conceito escolhido. Desse modo é importante a linguagem, o trabalho deve, antes de tudo **comunicar**.\n",
        "\n",
        "Você pode, e é mesmo esperado, que você empregue referências e implementações de outros trabalhos. Mas é importante que você **1. Indique adequadamente as referências**, e **2. Implemente algum diferencial na sua solução**, o que pode ser um conjunto de dados diferente, comparação com outro modelo etc.\n",
        "\n",
        "<br>\n",
        "\n",
        "(\\*) *Atendendo critérios mínimos, convidarei os dois melhores trabalhos para fazermos uma publicação no Medium.*\n"
      ]
    },
    {
      "cell_type": "code",
      "execution_count": null,
      "metadata": {
        "id": "rYx9D4GZA5o9"
      },
      "outputs": [],
      "source": [
        "#@title **Identificação do Grupo**\n",
        "\n",
        "#@markdown Integrantes do Grupo, nome completo em orgem alfabética (*informe \\<TIA\\>,\\<nome\\>*)\n",
        "Aluno1 = '10375711, Gabriel Marques G. Almeida' #@param {type:\"string\"}\n",
        "Aluno2 = '10390123, Leonardo Borim Silva' #@param {type:\"string\"}\n",
        "Aluno3 = '10390316, Mateus Yoon' #@param {type:\"string\"}\n",
        "Aluno4 = '10390484, Samy Idesis' #@param {type:\"string\"}\n",
        "Aluno5 = 'None' #@param {type:\"string\"}\n",
        "\n"
      ]
    },
    {
      "cell_type": "markdown",
      "metadata": {
        "id": "JlCIc2YooBW7"
      },
      "source": [
        "# **Resumo (*Abstract*)**\n",
        "\n",
        "Apresente um parágrafo um resumo do seu trabalho."
      ]
    },
    {
      "cell_type": "markdown",
      "metadata": {
        "id": "A4-f8AtfKAn2"
      },
      "source": [
        "# **Referencial Teórico**\n",
        "\n",
        "Apresente os principais conceitos da tecnologia ou princípio explorado no seu trabalho (o que é? como funciona? Suas aplicações). Não deixe de indicar referências e incluir ilustrações/esquemas quando necessário. Empregue 2-3 páginas.\n",
        "\n",
        "\n",
        "\n"
      ]
    },
    {
      "cell_type": "markdown",
      "metadata": {
        "id": "69Ed6lD7vmi7"
      },
      "source": [
        "Para facilitar a comunicação fica aqui a sugestão (opcional) de incluírem no Referencial Teórico um texto nos seguintes moldes:\n",
        "\n",
        "> ## **Conceitos Chave**\n",
        "\n",
        "> Resuma aqui 3-5 palavras chave da tecnologia ou conceito explorado. Por exemplo, se seu trabalho explora-se o conceito de *Deep Learning*, os seguintes iten poderiam ter tratados aqui:\n",
        "\n",
        "> ### 1. *Função de Ativação*\n",
        "É uma função, em geral não linear, aplicada à combinação linear das entradas de um neurônio artificial. Exemplos comuns de funções de ativação são a `ReLU`, `Softmax`, $tanh$ e `sigmoid`.\n",
        "\n",
        "> ### 2. *Backpropagation*\n",
        "É o algoritmo empregado para atualizar e efetura o treinamento dos pesos de uma rede neural. Após o processamento da rede (*forward*) é empregado o erro entre a saída da rede e a saída desejada para se ajustar os pesos em um processo de retropropagação (no sentido contrário), em que cada camada é ajustada na medida de sua participação no resultado da rede.\n",
        "\n",
        "> etc."
      ]
    },
    {
      "cell_type": "markdown",
      "metadata": {
        "id": "4wfTEdMMxqFK"
      },
      "source": [
        "# **Exemplo de Aplicação**\n",
        "\n",
        "Descreva aqui um pequeno problema que você resolverá aplicando a tecnologia/conceito envolvido. O código/solução não precisa ser original, mas não deixe de dar as referências dessa solução. Lembre-se que o notebook precisa ser 100% executável e, portanto, você não deve empregar arquivos locais da sua máquina.\n",
        "\n",
        "Empregue aqui um ou dois parágrafos."
      ]
    },
    {
      "cell_type": "markdown",
      "metadata": {
        "id": "FyFHbT8vygVp"
      },
      "source": [
        "# **Implementação**\n",
        "\n",
        "Coloque aqui o código da sua solução. Você deve explicar em linhas gerais o código. Para isso você pode quebrar o código em algumas partes e incluir células de texto explicativos. Não empregue para isso comentários no corpo do código, mas crie células de texto do notebook.\n",
        "\n",
        "Tente empregar exemplos que não sejam muito complexos e que busquem dar a você ou ao leitor um ponto de partida para o uso da tecnologia/conceito explorado.\n",
        "\n",
        "Ao final, se julgar útil, você pode ter uma célula com o código completo do que foi aqui dividido para explicar as diferentes partes."
      ]
    },
    {
      "cell_type": "code",
      "execution_count": 1,
      "metadata": {},
      "outputs": [],
      "source": [
        "import numpy as np\n",
        "import pandas as pd\n",
        "import matplotlib.pyplot as plt\n",
        "%matplotlib inline\n",
        "from matplotlib.lines import Line2D\n",
        "import seaborn as sns\n",
        "\n",
        "from sklearn.model_selection import train_test_split\n",
        "from sklearn.metrics import accuracy_score, classification_report\n",
        "from sklearn.preprocessing import LabelEncoder, OneHotEncoder\n",
        "from sklearn.pipeline import Pipeline\n",
        "from sklearn.metrics import accuracy_score, recall_score, precision_score, f1_score\n",
        "from sklearn.tree import DecisionTreeClassifier\n",
        "from sklearn.ensemble import RandomForestClassifier, AdaBoostClassifier, ExtraTreesClassifier\n",
        "from sklearn.neighbors import KNeighborsClassifier\n",
        "from sklearn.naive_bayes import GaussianNB\n",
        "from sklearn.svm import SVC"
      ]
    },
    {
      "cell_type": "code",
      "execution_count": 3,
      "metadata": {},
      "outputs": [
        {
          "data": {
            "text/html": [
              "<div>\n",
              "<style scoped>\n",
              "    .dataframe tbody tr th:only-of-type {\n",
              "        vertical-align: middle;\n",
              "    }\n",
              "\n",
              "    .dataframe tbody tr th {\n",
              "        vertical-align: top;\n",
              "    }\n",
              "\n",
              "    .dataframe thead th {\n",
              "        text-align: right;\n",
              "    }\n",
              "</style>\n",
              "<table border=\"1\" class=\"dataframe\">\n",
              "  <thead>\n",
              "    <tr style=\"text-align: right;\">\n",
              "      <th></th>\n",
              "      <th>Champion1_Blue</th>\n",
              "      <th>Champion2_Blue</th>\n",
              "      <th>Champion3_Blue</th>\n",
              "      <th>Champion4_Blue</th>\n",
              "      <th>Champion5_Blue</th>\n",
              "      <th>Champion1_Red</th>\n",
              "      <th>Champion2_Red</th>\n",
              "      <th>Champion3_Red</th>\n",
              "      <th>Champion4_Red</th>\n",
              "      <th>Champion5_Red</th>\n",
              "      <th>Result</th>\n",
              "    </tr>\n",
              "  </thead>\n",
              "  <tbody>\n",
              "    <tr>\n",
              "      <th>0</th>\n",
              "      <td>Camille</td>\n",
              "      <td>Poppy</td>\n",
              "      <td>Qiyana</td>\n",
              "      <td>Tristana</td>\n",
              "      <td>Pantheon</td>\n",
              "      <td>Urgot</td>\n",
              "      <td>Brand</td>\n",
              "      <td>Twitch</td>\n",
              "      <td>Lucian</td>\n",
              "      <td>Milio</td>\n",
              "      <td>Red</td>\n",
              "    </tr>\n",
              "    <tr>\n",
              "      <th>1</th>\n",
              "      <td>Akali</td>\n",
              "      <td>Kayn</td>\n",
              "      <td>Ryze</td>\n",
              "      <td>Corki</td>\n",
              "      <td>Nautilus</td>\n",
              "      <td>Garen</td>\n",
              "      <td>Lillia</td>\n",
              "      <td>Leblanc</td>\n",
              "      <td>Jinx</td>\n",
              "      <td>Milio</td>\n",
              "      <td>Red</td>\n",
              "    </tr>\n",
              "    <tr>\n",
              "      <th>2</th>\n",
              "      <td>Camille</td>\n",
              "      <td>Sejuani</td>\n",
              "      <td>Hwei</td>\n",
              "      <td>Caitlyn</td>\n",
              "      <td>Rell</td>\n",
              "      <td>Jax</td>\n",
              "      <td>LeeSin</td>\n",
              "      <td>Lux</td>\n",
              "      <td>Jhin</td>\n",
              "      <td>Janna</td>\n",
              "      <td>Red</td>\n",
              "    </tr>\n",
              "    <tr>\n",
              "      <th>3</th>\n",
              "      <td>Camille</td>\n",
              "      <td>LeeSin</td>\n",
              "      <td>Hwei</td>\n",
              "      <td>Jhin</td>\n",
              "      <td>Sona</td>\n",
              "      <td>Vladimir</td>\n",
              "      <td>Skarner</td>\n",
              "      <td>Yasuo</td>\n",
              "      <td>Samira</td>\n",
              "      <td>Milio</td>\n",
              "      <td>Blue</td>\n",
              "    </tr>\n",
              "    <tr>\n",
              "      <th>4</th>\n",
              "      <td>Camille</td>\n",
              "      <td>JarvanIV</td>\n",
              "      <td>Xerath</td>\n",
              "      <td>Jhin</td>\n",
              "      <td>Nautilus</td>\n",
              "      <td>Jayce</td>\n",
              "      <td>Lillia</td>\n",
              "      <td>Lux</td>\n",
              "      <td>Seraphine</td>\n",
              "      <td>Senna</td>\n",
              "      <td>Red</td>\n",
              "    </tr>\n",
              "  </tbody>\n",
              "</table>\n",
              "</div>"
            ],
            "text/plain": [
              "  Champion1_Blue Champion2_Blue Champion3_Blue Champion4_Blue Champion5_Blue  \\\n",
              "0        Camille          Poppy         Qiyana       Tristana       Pantheon   \n",
              "1          Akali           Kayn           Ryze          Corki       Nautilus   \n",
              "2        Camille        Sejuani           Hwei        Caitlyn           Rell   \n",
              "3        Camille         LeeSin           Hwei           Jhin           Sona   \n",
              "4        Camille       JarvanIV         Xerath           Jhin       Nautilus   \n",
              "\n",
              "  Champion1_Red Champion2_Red Champion3_Red Champion4_Red Champion5_Red Result  \n",
              "0         Urgot         Brand        Twitch        Lucian         Milio    Red  \n",
              "1         Garen        Lillia       Leblanc          Jinx         Milio    Red  \n",
              "2           Jax        LeeSin           Lux          Jhin         Janna    Red  \n",
              "3      Vladimir       Skarner         Yasuo        Samira         Milio   Blue  \n",
              "4         Jayce        Lillia           Lux     Seraphine         Senna    Red  "
            ]
          },
          "execution_count": 3,
          "metadata": {},
          "output_type": "execute_result"
        }
      ],
      "source": [
        "df = pd.read_csv('partidas_data.csv')\n",
        "\n",
        "df.head()"
      ]
    },
    {
      "cell_type": "code",
      "execution_count": 5,
      "metadata": {},
      "outputs": [],
      "source": [
        "# Supondo que seu DataFrame esteja na variável `df`\n",
        "# Converter a coluna 'Result' para valores binários (0 para Red, 1 para Blue)\n",
        "label_encoder = LabelEncoder()\n",
        "df['Result'] = label_encoder.fit_transform(df['Result'])\n",
        "\n",
        "# One-hot encoding para os campeões\n",
        "X = pd.get_dummies(df.drop('Result', axis=1))\n",
        "y = df['Result']"
      ]
    },
    {
      "cell_type": "code",
      "execution_count": 6,
      "metadata": {},
      "outputs": [],
      "source": [
        "classificadores = [\n",
        "    DecisionTreeClassifier(random_state=42),\n",
        "    RandomForestClassifier(random_state=42),\n",
        "    AdaBoostClassifier(),\n",
        "    KNeighborsClassifier(),\n",
        "    ExtraTreesClassifier(random_state=42),\n",
        "    GaussianNB(),\n",
        "    SVC()\n",
        "]"
      ]
    },
    {
      "cell_type": "code",
      "execution_count": 7,
      "metadata": {},
      "outputs": [
        {
          "name": "stdout",
          "output_type": "stream",
          "text": [
            "Report Classificador: DecisionTreeClassifier\n",
            "Classification Report:\n",
            "              precision    recall  f1-score   support\n",
            "\n",
            "           0       0.44      0.54      0.49        65\n",
            "           1       0.69      0.60      0.64       111\n",
            "\n",
            "    accuracy                           0.58       176\n",
            "   macro avg       0.57      0.57      0.57       176\n",
            "weighted avg       0.60      0.58      0.59       176\n",
            "\n",
            "\n",
            "\n",
            "Report Classificador: RandomForestClassifier\n",
            "Classification Report:\n",
            "              precision    recall  f1-score   support\n",
            "\n",
            "           0       0.62      0.46      0.53        65\n",
            "           1       0.73      0.84      0.78       111\n",
            "\n",
            "    accuracy                           0.70       176\n",
            "   macro avg       0.68      0.65      0.65       176\n",
            "weighted avg       0.69      0.70      0.69       176\n",
            "\n",
            "\n",
            "\n"
          ]
        },
        {
          "name": "stderr",
          "output_type": "stream",
          "text": [
            "c:\\Users\\Leonardo Borim\\AppData\\Local\\Programs\\Python\\Python311\\Lib\\site-packages\\sklearn\\ensemble\\_weight_boosting.py:527: FutureWarning: The SAMME.R algorithm (the default) is deprecated and will be removed in 1.6. Use the SAMME algorithm to circumvent this warning.\n",
            "  warnings.warn(\n"
          ]
        },
        {
          "name": "stdout",
          "output_type": "stream",
          "text": [
            "Report Classificador: AdaBoostClassifier\n",
            "Classification Report:\n",
            "              precision    recall  f1-score   support\n",
            "\n",
            "           0       0.43      0.69      0.53        65\n",
            "           1       0.72      0.47      0.57       111\n",
            "\n",
            "    accuracy                           0.55       176\n",
            "   macro avg       0.58      0.58      0.55       176\n",
            "weighted avg       0.62      0.55      0.56       176\n",
            "\n",
            "\n",
            "\n",
            "Report Classificador: KNeighborsClassifier\n",
            "Classification Report:\n",
            "              precision    recall  f1-score   support\n",
            "\n",
            "           0       0.49      0.54      0.51        65\n",
            "           1       0.71      0.68      0.69       111\n",
            "\n",
            "    accuracy                           0.62       176\n",
            "   macro avg       0.60      0.61      0.60       176\n",
            "weighted avg       0.63      0.62      0.63       176\n",
            "\n",
            "\n",
            "\n",
            "Report Classificador: ExtraTreesClassifier\n",
            "Classification Report:\n",
            "              precision    recall  f1-score   support\n",
            "\n",
            "           0       0.55      0.45      0.49        65\n",
            "           1       0.71      0.78      0.74       111\n",
            "\n",
            "    accuracy                           0.66       176\n",
            "   macro avg       0.63      0.61      0.62       176\n",
            "weighted avg       0.65      0.66      0.65       176\n",
            "\n",
            "\n",
            "\n",
            "Report Classificador: GaussianNB\n",
            "Classification Report:\n",
            "              precision    recall  f1-score   support\n",
            "\n",
            "           0       0.41      0.89      0.56        65\n",
            "           1       0.79      0.23      0.36       111\n",
            "\n",
            "    accuracy                           0.48       176\n",
            "   macro avg       0.60      0.56      0.46       176\n",
            "weighted avg       0.65      0.48      0.43       176\n",
            "\n",
            "\n",
            "\n",
            "Report Classificador: SVC\n",
            "Classification Report:\n",
            "              precision    recall  f1-score   support\n",
            "\n",
            "           0       0.69      0.28      0.40        65\n",
            "           1       0.69      0.93      0.79       111\n",
            "\n",
            "    accuracy                           0.69       176\n",
            "   macro avg       0.69      0.60      0.59       176\n",
            "weighted avg       0.69      0.69      0.64       176\n",
            "\n",
            "\n",
            "\n"
          ]
        }
      ],
      "source": [
        "# Aqui iremos guardar o resultado de cada modelo utilizado\n",
        "resultados = []\n",
        "\n",
        "# Divisão dos dados em treinamento e teste\n",
        "X_train, X_test, y_train, y_test = train_test_split(X, y, test_size=0.2, random_state=42)\n",
        "\n",
        "# Inicia um loop que vai passar por cada modelo que queremos testar\n",
        "for classificador in classificadores:\n",
        "\n",
        "    # Cria uma sequencia de passos que serão aplicados aos dados\n",
        "    # Nesse caso, o único passo é o próprio classificador\n",
        "    pipeline = Pipeline([\n",
        "        ('classifier', classificador)\n",
        "    ])\n",
        "\n",
        "    # Verifica qual foi a predição do modelo\n",
        "    pipeline.fit(X_train, y_train)\n",
        "    y_pred = pipeline.predict(X_test)\n",
        "\n",
        "    # Obtendo algumas métricas de avaliação para as predições do modelo\n",
        "    accuracy = accuracy_score(y_test, y_pred)\n",
        "    recall = recall_score(y_test, y_pred, average='weighted')\n",
        "    precision = precision_score(y_test, y_pred, average='weighted', zero_division=1)\n",
        "    f1 = f1_score(y_test, y_pred, average='weighted')\n",
        "\n",
        "    report = classification_report(y_test, y_pred)\n",
        "    print(f'Report Classificador: {classificador.__class__.__name__}')\n",
        "    print('Classification Report:')\n",
        "    print(report)\n",
        "    print('\\n')\n",
        "\n",
        "    # Adiciona o nome do classificador e as pontuações de cada um na lista de resultados\n",
        "    resultados.append((classificador.__class__.__name__, accuracy, recall, precision, f1))"
      ]
    },
    {
      "cell_type": "code",
      "execution_count": 8,
      "metadata": {},
      "outputs": [
        {
          "name": "stdout",
          "output_type": "stream",
          "text": [
            "            Classificador  Acurácia    Recall  Precisão  F1-Score\n",
            "1  RandomForestClassifier  0.698864  0.698864  0.689054  0.686922\n",
            "6                     SVC  0.687500  0.687500  0.688750  0.643883\n",
            "4    ExtraTreesClassifier  0.659091  0.659091  0.648172  0.650498\n",
            "3    KNeighborsClassifier  0.625000  0.625000  0.632545  0.628064\n",
            "0  DecisionTreeClassifier  0.579545  0.579545  0.599248  0.585834\n",
            "2      AdaBoostClassifier  0.551136  0.551136  0.615294  0.555099\n",
            "5              GaussianNB  0.477273  0.477273  0.646694  0.433712\n"
          ]
        }
      ],
      "source": [
        "# Crie um DataFrame com os resultados\n",
        "resultados_df = pd.DataFrame(resultados, columns=['Classificador', 'Acurácia', 'Recall', 'Precisão', 'F1-Score'])\n",
        "\n",
        "# Ordene os resultados pela Acurácia em ordem decrescente\n",
        "resultados_df = resultados_df.sort_values(by='Acurácia', ascending=False)\n",
        "\n",
        "# Exiba os resultados dos modelos\n",
        "print(resultados_df.head(7))"
      ]
    },
    {
      "cell_type": "markdown",
      "metadata": {
        "id": "vuisqDoJ0oTB"
      },
      "source": [
        "# **Uma ideia de Projeto de Aplicação**\n",
        "\n",
        "Apresente aqui uma ideia de projeto original em que a tecnologia/conceito explorada poderia ser empregada. Busque apresentar um problema relevante e atual. Você não precisa implementar mas, se quiser, pode empregar o Exemplo de Aplicação anterior para isso! Neste caso basta fazer um protótipo ou uma prova de conceito. Empregue aqui no máximo 1 página.\n"
      ]
    },
    {
      "cell_type": "code",
      "execution_count": 9,
      "metadata": {},
      "outputs": [],
      "source": [
        "#testando uma nova partida\n",
        "\n",
        "# Novo conjunto de campeões\n",
        "new_match = {\n",
        "    'Champion1_Blue': 'Camille',\n",
        "    'Champion2_Blue': 'Sejuani',\n",
        "    'Champion3_Blue': 'Xerath',\n",
        "    'Champion4_Blue': 'Jhin',\n",
        "    'Champion5_Blue': 'Sona',\n",
        "    'Champion1_Red': 'Urgot',\n",
        "    'Champion2_Red': 'Lillia',\n",
        "    'Champion3_Red': 'Lux',\n",
        "    'Champion4_Red': 'Samira',\n",
        "    'Champion5_Red': 'Senna'\n",
        "}\n",
        "\n",
        "new_match_df = pd.DataFrame([new_match])"
      ]
    },
    {
      "cell_type": "code",
      "execution_count": 10,
      "metadata": {},
      "outputs": [],
      "source": [
        "# Combinar o novo conjunto de dados com os dados originais para garantir que todas as colunas de dummy estão presentes\n",
        "combined_df = pd.concat([df.drop('Result', axis=1), new_match_df], axis=0)\n",
        "\n",
        "# Aplicar one-hot encoding ao conjunto combinado\n",
        "combined_df_encoded = pd.get_dummies(combined_df)\n",
        "\n",
        "# Selecionar apenas as colunas do novo conjunto de dados que foram usadas no treinamento\n",
        "X_new = combined_df_encoded.tail(1)"
      ]
    },
    {
      "cell_type": "code",
      "execution_count": 12,
      "metadata": {},
      "outputs": [
        {
          "name": "stdout",
          "output_type": "stream",
          "text": [
            "Prediction for the new match: 1\n"
          ]
        }
      ],
      "source": [
        "# Modelo para fazer a previsão será o que teve os melhores resultados\n",
        "model = RandomForestClassifier(random_state=42)\n",
        "model.fit(X_train, y_train)\n",
        "\n",
        "# Fazer a previsão\n",
        "prediction = model.predict(X_new)\n",
        "\n",
        "# Converter o resultado de volta para a label original\n",
        "result = label_encoder.inverse_transform(prediction)\n",
        "\n",
        "print(f'Prediction for the new match: {result[0]}')\n"
      ]
    },
    {
      "cell_type": "markdown",
      "metadata": {
        "id": "7LtXrRFr4hg3"
      },
      "source": [
        "# **Referências**\n",
        "\n",
        "Este é um item obrigatório."
      ]
    },
    {
      "cell_type": "markdown",
      "metadata": {
        "id": "ZGpU-v6CnTaG"
      },
      "source": [
        "# **Vídeo e GitHub**\n",
        "\n",
        "Publique (YouTube ou qualquer outro de acesso público) um vídeo explicativo apresentando o seu trabalho em no máximo 4min. Foque na relevância do problema e na solução empregada. Salve em um GitHub público seu projeto (o notebook Python)."
      ]
    },
    {
      "cell_type": "markdown",
      "metadata": {
        "id": "9kwoGZeSLRsX"
      },
      "source": [
        "# **Conclusão**\n",
        "\n",
        "Apresente a conclusão do seu estudo. Indique limitações da tecnologia/conceitos, novos avanços e compare com tecnologias/conceitos concorrentes.\n",
        "\n"
      ]
    },
    {
      "cell_type": "markdown",
      "metadata": {
        "id": "EHohsrFbpksT"
      },
      "source": [
        "# **Apêndice**\n",
        "\n",
        "Link da Apresentação no YouTube:\n"
      ]
    },
    {
      "cell_type": "code",
      "execution_count": null,
      "metadata": {
        "colab": {
          "base_uri": "https://localhost:8080/",
          "height": 321
        },
        "id": "LqJACWuip3YG",
        "outputId": "4ffeec07-ccff-4390-ee5c-8ad76ace051e"
      },
      "outputs": [],
      "source": [
        "from IPython.display import YouTubeVideo\n",
        "YouTubeVideo('ssSCGwy_Qfo') # substitua pelo seu vídeo"
      ]
    },
    {
      "cell_type": "markdown",
      "metadata": {
        "id": "8crUBC3IQ3U_"
      },
      "source": [
        "---"
      ]
    },
    {
      "cell_type": "code",
      "execution_count": null,
      "metadata": {
        "cellView": "form",
        "id": "BluFtfHuCGzm"
      },
      "outputs": [],
      "source": [
        "#@title **Avaliação**\n",
        "Referencial_Teorico = 10 #@param {type:\"slider\", min:0, max:10, step:1}\n",
        "\n",
        "Conceitos_Chave = 9 #@param {type:\"slider\", min:0, max:10, step:1}\n",
        "\n",
        "Exemplo_Aplicacao = 6 #@param {type:\"slider\", min:0, max:10, step:1}\n",
        "\n",
        "Ideia_Projeto = 7 #@param {type:\"slider\", min:0, max:10, step:1}\n",
        "\n",
        "Conclusao = 7 #@param {type:\"slider\", min:0, max:10, step:1}\n",
        "\n",
        "\n",
        "\n",
        "\n",
        "\n",
        "\n"
      ]
    },
    {
      "cell_type": "code",
      "execution_count": null,
      "metadata": {
        "cellView": "form",
        "colab": {
          "base_uri": "https://localhost:8080/",
          "height": 147
        },
        "id": "2Gqw7hUZHyle",
        "outputId": "632a2c94-4a20-4aca-a86a-82cfdcb35db6"
      },
      "outputs": [],
      "source": [
        "#@title **Nota Final**\n",
        "nota = Referencial_Teorico + Conceitos_Chave + 2*Exemplo_Aplicacao + 2*Ideia_Projeto + Conclusao\n",
        "\n",
        "nota = nota / 7\n",
        "\n",
        "print(f'Nota final do trabalho {nota :.1f}')\n",
        "\n",
        "import numpy as np\n",
        "import pandas as pd\n",
        "\n",
        "alunos = pd.DataFrame()\n",
        "\n",
        "lista_tia = []\n",
        "lista_nome = []\n",
        "\n",
        "for i in range(1,6):\n",
        "  exec(\"if Aluno\" + str(i) + \" !='None':  lista = Aluno\" + str(i) + \".split(','); lista_tia.append(lista[0]); lista_nome.append(lista[1].upper())\")\n",
        "\n",
        "alunos['tia'] = lista_tia\n",
        "alunos['nome'] = lista_nome\n",
        "alunos['nota'] = np.round(nota,1)\n",
        "print()\n",
        "display(alunos)"
      ]
    }
  ],
  "metadata": {
    "colab": {
      "provenance": []
    },
    "kernelspec": {
      "display_name": "Python 3",
      "language": "python",
      "name": "python3"
    },
    "language_info": {
      "codemirror_mode": {
        "name": "ipython",
        "version": 3
      },
      "file_extension": ".py",
      "mimetype": "text/x-python",
      "name": "python",
      "nbconvert_exporter": "python",
      "pygments_lexer": "ipython3",
      "version": "3.11.2"
    }
  },
  "nbformat": 4,
  "nbformat_minor": 0
}
